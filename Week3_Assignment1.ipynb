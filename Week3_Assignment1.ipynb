{
 "cells": [
  {
   "cell_type": "markdown",
   "id": "f9e756bc-45c3-4976-b838-e7253838c995",
   "metadata": {},
   "source": [
    "Q1. Which keyword is used to create a function? Create a function to return a list of odd numbers in the\n",
    "range of 1 to 25."
   ]
  },
  {
   "cell_type": "code",
   "execution_count": 1,
   "id": "9217c1de-6a7c-4756-85a6-334ac7d221b4",
   "metadata": {},
   "outputs": [
    {
     "data": {
      "text/plain": [
       "[1, 3, 5, 7, 9, 11, 13, 15, 17, 19, 21, 23]"
      ]
     },
     "execution_count": 1,
     "metadata": {},
     "output_type": "execute_result"
    }
   ],
   "source": [
    "# def keyword is used to creat a function\n",
    "def create_odd(upper_limit):\n",
    "    return [num for num in range(upper_limit) if num%2 != 0]\n",
    "create_odd(25)\n"
   ]
  },
  {
   "cell_type": "markdown",
   "id": "5890ee9b-35f0-457b-9f90-a76c0d073beb",
   "metadata": {},
   "source": [
    "Q2. Why *args and **kwargs is used in some functions? Create a function each for *args and **kwargs to\n",
    "demonstrate their use."
   ]
  },
  {
   "cell_type": "markdown",
   "id": "af4e24e6-b484-4520-addb-7cc601412fce",
   "metadata": {},
   "source": [
    "Ans. *agrs(Non Keyword arguements) is used when the number of Non Keyword aruements is unknown for any function definition.        After using *args in the function definition the function can be called with any number of Non Keyword arguements. The        function will recieve the arguements in form of tuple.\n",
    "     **kwargs(Keyword arguements) is used when the number of Keyword aruements is unknown for any function definition. After        using **kwargs in the function definition the function can be called with variable length arguements in form of                \"key-value\" pair.The function will recieve the arguements in form of dictionary."
   ]
  },
  {
   "cell_type": "code",
   "execution_count": 41,
   "id": "76a9f69e-c0f5-4f01-8d90-2481ed3d72f7",
   "metadata": {},
   "outputs": [
    {
     "name": "stdout",
     "output_type": "stream",
     "text": [
      "Sum is: 21\n",
      "Name : Anmol Anand\n",
      "Email : anmol65438@gmail.com\n",
      "Institute : PwSkills\n",
      "Course : Data Science Masters 2.0\n"
     ]
    }
   ],
   "source": [
    "#Exanple of *args\n",
    "def number_sum(*args):\n",
    "    res=0\n",
    "    for i in args:\n",
    "        res+=i\n",
    "    return res\n",
    "print(\"Sum is:\", number_sum(1,2,3,4,5,6))\n",
    "\n",
    "#Example of **kwargs\n",
    "def display_details(**kwargs):\n",
    "    for k in kwargs.keys():\n",
    "        print(k,\":\", kwargs[k])\n",
    "\n",
    "display_details(Name=\"Anmol Anand\", Email=\"anmol65438@gmail.com\", Institute=\"PwSkills\", Course=\"Data Science Masters 2.0\")"
   ]
  },
  {
   "cell_type": "markdown",
   "id": "21f3b4a4-cc52-45ef-8694-aacd6de8ba1e",
   "metadata": {},
   "source": [
    "Q3. What is an iterator in python? Name the method used to initialise the iterator object and the method\n",
    "used for iteration. Use these methods to print the first five elements of the given list [2, 4, 6, 8, 10, 12, 14, 16,\n",
    "18, 20]."
   ]
  },
  {
   "cell_type": "markdown",
   "id": "1a88199d-345b-4d71-8222-9d76b04b9370",
   "metadata": {},
   "source": [
    "Iterator in Python is an object that is used to traverse through an iterable object like List, Set, Dictonary, Tuple, String.\n",
    "\"iter()\" method is used to initialise an iterator object and \"next()\" method is used for iteration."
   ]
  },
  {
   "cell_type": "code",
   "execution_count": 13,
   "id": "84101afd-24d5-4e03-899e-f596efbae588",
   "metadata": {},
   "outputs": [
    {
     "name": "stdout",
     "output_type": "stream",
     "text": [
      "2\n",
      "4\n",
      "6\n",
      "8\n",
      "10\n"
     ]
    }
   ],
   "source": [
    "lst=[2, 4, 6, 8, 10, 12, 14, 16, 18, 20]\n",
    "itr=iter(lst)\n",
    "\n",
    "for i in range(5):\n",
    "    print(next(itr))"
   ]
  },
  {
   "cell_type": "markdown",
   "id": "5deade4c-124b-4624-a1fb-979758350817",
   "metadata": {},
   "source": [
    "Q4. What is a generator function in python? Why yield keyword is used? Give an example of a generator\n",
    "function."
   ]
  },
  {
   "cell_type": "markdown",
   "id": "e73f8d4d-7910-48bf-bdba-1caea3070986",
   "metadata": {},
   "source": [
    "In python a generator function is used to define a function that returns an iterator object, providing a faster access to the result. \"yield\" Keyword is used in generator function body in place of \"return\" keyword to return the iterator object."
   ]
  },
  {
   "cell_type": "code",
   "execution_count": 18,
   "id": "827309f2-6b04-4082-9234-60a48144a2b5",
   "metadata": {},
   "outputs": [
    {
     "name": "stdout",
     "output_type": "stream",
     "text": [
      "0\n",
      "1\n",
      "2\n",
      "3\n",
      "4\n",
      "5\n"
     ]
    }
   ],
   "source": [
    "# Example of generator function\n",
    "def test(num):\n",
    "    for i in range(num):\n",
    "        yield i\n",
    "\n",
    "for i in test(6):\n",
    "    print(i)"
   ]
  },
  {
   "cell_type": "markdown",
   "id": "c7271a71-9440-4e4c-95d9-c73ed2ccc5da",
   "metadata": {},
   "source": [
    "Q5. Create a generator function for prime numbers less than 1000. Use the next() method to print the first 20 prime numbers."
   ]
  },
  {
   "cell_type": "code",
   "execution_count": 42,
   "id": "20ab338a-6c0f-4678-bd45-54292854207d",
   "metadata": {},
   "outputs": [
    {
     "name": "stdout",
     "output_type": "stream",
     "text": [
      "2\n",
      "3\n",
      "5\n",
      "7\n",
      "11\n",
      "13\n",
      "17\n",
      "19\n",
      "23\n",
      "29\n",
      "31\n",
      "37\n",
      "41\n",
      "43\n",
      "47\n",
      "53\n",
      "59\n",
      "61\n",
      "67\n",
      "71\n"
     ]
    }
   ],
   "source": [
    "import math as m\n",
    "def prime_num():\n",
    "    for i in range(2,1000):\n",
    "        cnt=0;\n",
    "        for j in range(1,int(m.sqrt(i))+1):\n",
    "            if i%j == 0:\n",
    "                cnt+=1\n",
    "            if cnt>=2:\n",
    "                break\n",
    "        if(cnt<2):\n",
    "            yield i\n",
    "            \n",
    "\n",
    "itr = prime_num()\n",
    "\n",
    "for i in range(20):\n",
    "    print(next(itr))"
   ]
  }
 ],
 "metadata": {
  "kernelspec": {
   "display_name": "Python 3 (ipykernel)",
   "language": "python",
   "name": "python3"
  },
  "language_info": {
   "codemirror_mode": {
    "name": "ipython",
    "version": 3
   },
   "file_extension": ".py",
   "mimetype": "text/x-python",
   "name": "python",
   "nbconvert_exporter": "python",
   "pygments_lexer": "ipython3",
   "version": "3.10.8"
  }
 },
 "nbformat": 4,
 "nbformat_minor": 5
}
