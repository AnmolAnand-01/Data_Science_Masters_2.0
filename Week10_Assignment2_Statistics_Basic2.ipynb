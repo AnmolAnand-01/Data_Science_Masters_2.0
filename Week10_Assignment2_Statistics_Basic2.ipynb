{
 "cells": [
  {
   "cell_type": "markdown",
   "id": "245545da-9734-474b-80ad-93d427d4ab4d",
   "metadata": {},
   "source": [
    "**Q1. What are the three measures of central tendency?**"
   ]
  },
  {
   "cell_type": "markdown",
   "id": "70f81390-8c57-4364-8efa-aab7422e1624",
   "metadata": {},
   "source": [
    "Measures of central tendency:\n",
    "\n",
    " 1. Mean: The mean is the average of a set of values. It's calculated by summing all values and dividing by the total number of observations. The mean provides a measure of the center of the dataset. It's sensitive to extreme values (outliers) and is widely used when data are symmetrically distributed.\n",
    " Formula: Mean = (Sum of all values) / (Number of values).\n",
    " Example: For a set of numbers 4, 5, 6, 7, and 8, the mean is calculated as (4 + 5 + 6 + 7 + 8) / 5 = 30 / 5 = 6.\n",
    "\n",
    " 2.  The median is the middle value when data are arranged in ascending or descending order. If there's an even number of observations, the median is the average of the two middle values. The median is robust to outliers and extreme values. It's suitable for skewed distributions and provides a measure of the central value that separates the higher and lower halves of the dataset.\n",
    " Example (Odd number of observations): For a set of numbers 3, 5, 6, 7, and 9, the median is 6, as it is the middle value when arranged in ascending order.\n",
    " Example (even number of observations): For a set of numbers 2, 4, 6, 8, 10, and 12, the median is (6 + 8) / 2 = 7, the average of the two middle values.\n",
    "\n",
    " 3. The mode is the value that appears most frequently in a dataset. The mode is useful for categorical data or when identifying the most common value or category within a dataset.\n",
    " Example: In a dataset of numbers 2, 3, 4, 4, 5, 6, 6, 7, the mode is 4 and 6 since these values appear most frequently (twice)."
   ]
  },
  {
   "cell_type": "markdown",
   "id": "46119c5b-50ba-4fe5-9a40-8435114cb20f",
   "metadata": {},
   "source": [
    "**Q2. What is the difference between the mean, median, and mode? How are they used to measure the\n",
    "central tendency of a dataset?**"
   ]
  },
  {
   "cell_type": "markdown",
   "id": "ca715456-bbc9-4bae-ac73-899cc9bfe56f",
   "metadata": {},
   "source": [
    "The mean, median, and mode are statistical measures used to understand the central tendency of a dataset. Below are the differences and how they measure central tendency:\n",
    "\n",
    "1. **Mean:** The mean, also known as the average, is the sum of all values in a dataset divided by the total number of observations. \n",
    "**Calculation:** Mean = (Sum of all values) / (Number of values). \n",
    "**Usage in Central Tendency:** It represents the central value of a dataset by considering all values equally. However, the mean is sensitive to extreme values (outliers) and may be skewed by these outliers. It can be used to replace the missing values in a dataset is symmetric i.e. no outlier is present.\n",
    "\n",
    "2. **Median:** The median is the middle value in a dataset when the values are arranged in ascending or descending order. If there is an even number of observations, the median is the average of the two middle values.\n",
    "**Calculation:** If the number of observations is odd, the median is the middle value. If the number is even, the median is the average of the two middle values.\n",
    "**Usage in Central Tendency:** It represents the middle value of a dataset, less influenced by extreme values. The median divides the dataset into two equal halves. It can be used to replace the missing values in a dataset if the dataset contains outliers.\n",
    "\n",
    "3. **Mode:** The mode is the value that appears most frequently in a dataset.\n",
    "**Usage in Central Tendency:** It identifies the most common value(s) within a dataset. The mode can be used with categorical or numerical data and helps in understanding the peak or highest frequency in a distribution. It can be used to replace the missing categorial values in the dataset."
   ]
  },
  {
   "cell_type": "markdown",
   "id": "cc3f1c42-7e63-4043-9914-ea978d202987",
   "metadata": {},
   "source": [
    "**Q3. Measure the three measures of central tendency for the given height data:**\n",
    "\n",
    "**[178,177,176,177,178.2,178,175,179,180,175,178.9,176.2,177,172.5,178,176.5]**"
   ]
  },
  {
   "cell_type": "code",
   "execution_count": 3,
   "id": "d4354365-8850-4f90-a5dc-571ef51573f3",
   "metadata": {},
   "outputs": [
    {
     "name": "stdout",
     "output_type": "stream",
     "text": [
      "The mean is: \n",
      "177.01875\n",
      "\n",
      "The median is: \n",
      "177.0\n",
      "\n",
      "The mode is: \n",
      "0    177.0\n",
      "1    178.0\n",
      "dtype: float64\n"
     ]
    }
   ],
   "source": [
    "import pandas as pd\n",
    "\n",
    "lst=[178,177,176,177,178.2,178,175,179,180,175,178.9,176.2,177,172.5,178,176.5]\n",
    "\n",
    "s=pd.Series(lst)\n",
    "\n",
    "#Calculaying the mean,median and mode using the pandas library.\n",
    "mean_=s.mean()\n",
    "median_=s.median()\n",
    "mode_=s.mode()\n",
    "\n",
    "print(\"The mean is: \")\n",
    "print(mean_)\n",
    "print(\"\\nThe median is: \")\n",
    "print(median_)\n",
    "print(\"\\nThe mode is: \")\n",
    "print(mode_)"
   ]
  },
  {
   "cell_type": "markdown",
   "id": "cfe7698b-699e-48f3-936d-8bc692cdf89f",
   "metadata": {},
   "source": [
    "**Q4. Find the standard deviation for the given data:**\n",
    "\n",
    "**[178,177,176,177,178.2,178,175,179,180,175,178.9,176.2,177,172.5,178,176.5]**"
   ]
  },
  {
   "cell_type": "code",
   "execution_count": 4,
   "id": "80026be3-6c0b-4ad4-92bb-d0c3d93e7753",
   "metadata": {},
   "outputs": [
    {
     "name": "stdout",
     "output_type": "stream",
     "text": [
      "The Standard deviation is: \n",
      "1.847238930584419\n",
      "\n",
      "The variance is: \n",
      "3.412291666666668\n"
     ]
    }
   ],
   "source": [
    "import pandas as pd\n",
    "\n",
    "lst=[178,177,176,177,178.2,178,175,179,180,175,178.9,176.2,177,172.5,178,176.5]\n",
    "\n",
    "s=pd.Series(lst)\n",
    "\n",
    "#Calculaying the Standard deviation and variance using the pandas library.\n",
    "std_=s.std()\n",
    "var_=s.var()\n",
    "\n",
    "print(\"The Standard deviation is: \")\n",
    "print(std_)\n",
    "print(\"\\nThe variance is: \")\n",
    "print(var_)\n"
   ]
  },
  {
   "cell_type": "markdown",
   "id": "2ab5d37e-1f6e-4ff8-a49a-2a6da25736cd",
   "metadata": {},
   "source": [
    "**Q5. How are measures of dispersion such as range, variance, and standard deviation used to describe\n",
    "the spread of a dataset? Provide an example.**"
   ]
  },
  {
   "cell_type": "markdown",
   "id": "0ab19ebf-b573-407d-81fc-5f62a08e64f7",
   "metadata": {},
   "source": [
    "Measures of dispersion, such as range, variance, and standard deviation, are utilized in statistics to quantify the extent of spread or variability within a dataset. They provide insights into how the data points are dispersed or scattered around the central tendency measures like mean, median, or mode.\n",
    "\n",
    "1. **Range:** The range is the difference between the maximum and minimum values in a dataset.\n",
    "**Usage:** It provides a simple measure of the spread by considering the full extent between the highest and lowest values.\n",
    "**Example:** Consider a dataset of test scores: 75, 80, 85, 90, 95. The range = maximum value (95) - minimum value (75) = 20. The range is 20, indicating the spread between the lowest and highest scores.\n",
    "\n",
    "2. **Variance:** Variance measures the average squared deviation of data points from the mean.\n",
    "**Usage:** It quantifies the dispersion of data points around the mean.\n",
    "**Example:** For a dataset of numbers: 2, 4, 6, 8, 10. First, calculate the mean = (2 + 4 + 6 + 8 + 10) / 5 = 6. Variance = average of squared differences from the mean. Variance = [(2-6)^2 + (4-6)^2 + (6-6)^2 + (8-6)^2 + (10-6)^2] / 5 = (16 + 4 + 0 + 4 + 16) / 5 = 40 / 5 = 8. Therefore, the variance is 8.\n",
    "\n",
    "3. **Standard Deviation:** Standard deviation is the square root of the variance. It represents the average amount of deviation of data points from the mean.\n",
    "**Usage:** It measures the spread of data around the mean in the original units of measurement.\n",
    "**Example:** For the dataset of numbers: 2, 4, 6, 8, 10. The variance = 8(Calculated above), the standard deviation = square root of variance = √8 ≈ 2.83. The standard deviation is approximately 2.83."
   ]
  },
  {
   "cell_type": "markdown",
   "id": "c98bcaa6-7d76-40b9-a7d8-25cd5f41212e",
   "metadata": {},
   "source": [
    "**Q6. What is a Venn diagram?**"
   ]
  },
  {
   "cell_type": "markdown",
   "id": "59479850-f550-46f7-a08e-7191b4c2208e",
   "metadata": {},
   "source": [
    "A Venn diagram is a graphical representation used to illustrate the relationships and commonalities between different sets or groups of items. Venn diagrams use overlapping circles to visually demonstrate the intersections and differences among various sets or categories of data.\n",
    "\n",
    "Features of a Venn diagram:\n",
    "\n",
    "1. When circles intersect, the overlapping regions represent elements that belong to both sets or categories. The non-overlapping parts represent elements unique to each set.\n",
    "\n",
    "2. The entire area covered by all circles represents the union of all sets.\n",
    "\n",
    "3. Venn diagrams can represent relationships between more than two sets using multiple overlapping shapes or circles."
   ]
  },
  {
   "cell_type": "markdown",
   "id": "d9468d86-5bd8-4b76-bd84-42c81c0e9c82",
   "metadata": {},
   "source": [
    "**Q7. For the two given sets A = (2,3,4,5,6,7) & B = (0,2,6,8,10). Find:**\n",
    "\n",
    "**(i) A ∩ B**\n",
    "\n",
    "**(ii) A ∪ B**"
   ]
  },
  {
   "cell_type": "code",
   "execution_count": 17,
   "id": "e72ac672-7e80-448a-bcfb-7b8857ad5918",
   "metadata": {},
   "outputs": [
    {
     "name": "stdout",
     "output_type": "stream",
     "text": [
      "Set A:  {2, 3, 4, 5, 6, 7}\n",
      "Set B:  {0, 2, 6, 8, 10}\n",
      "The intersection of {2, 3, 4, 5, 6, 7} and {0, 2, 6, 8, 10} is: {2, 6}\n",
      "The union of {2, 3, 4, 5, 6, 7} and {0, 2, 6, 8, 10} is: {0, 2, 3, 4, 5, 6, 7, 8, 10}\n"
     ]
    }
   ],
   "source": [
    "A = set((2,3,4,5,6,7))\n",
    "B = set((0,2,6,8,10))\n",
    "\n",
    "print(\"Set A: \",A)\n",
    "print(\"Set B: \",B)\n",
    "# print(type(A),type(B))\n",
    "\n",
    "#(i) A ∩ B  Intersection Operation\n",
    "C = A.intersection(B)\n",
    "print(\"The intersection of {} and {} is: {}\".format(A,B,C))\n",
    "\n",
    "#(ii) A ∪ B  Union Operation\n",
    "D = A.union(B)\n",
    "print(\"The union of {} and {} is: {}\".format(A,B,D))"
   ]
  },
  {
   "cell_type": "markdown",
   "id": "4adf913a-7df0-46c5-bd64-d94acc5a72bc",
   "metadata": {},
   "source": [
    "**Q8. What do you understand about skewness in data?**"
   ]
  },
  {
   "cell_type": "markdown",
   "id": "ea1e3ddf-cc8f-4e17-867f-e81b0901b5a0",
   "metadata": {},
   "source": [
    "Skewness in data refers to the measure of asymmetry or lack of symmetry in the distribution of a dataset. It is a statistical measure that describes the degree and direction of deviation from a symmetrical distribution.\n",
    "\n",
    "In a perfectly symmetrical distribution, the mean, median, and mode are equal, and the data is evenly distributed around the central tendency measures. But, in skewed distributions, this symmetry is disrupted, and the tail of the distribution may be longer on one side compared to the other.\n",
    "\n",
    "Types of Skewness:\n",
    "1. Positive Skewness (Right Skewed): In a positively skewed distribution, the tail of the distribution extends towards the higher values or the right side.  The mean is greater than the median and the mode. It implies that there are a few large values (outliers) pulling the mean in the direction of the right tail. The majority of the data points are clustered towards the lower values on the left side, while the right side has a few larger values, causing the tail to stretch in that direction. \n",
    "\n",
    "2. Negative Skewness (Left Skewed): In a negatively skewed (left-skewed) distribution, the tail elongates towards the smaller values or the left side. The mean is less than the median and the mode. This implies that there are a few smaller values (outliers) pulling the mean in the direction of the left tail. The majority of the data points are clustered towards the higher values on the right side, while the left side has a few smaller values, causing the tail to stretch in that direction."
   ]
  },
  {
   "cell_type": "markdown",
   "id": "c167f46d-1fff-4730-9ff0-39597b8bd0ba",
   "metadata": {},
   "source": [
    "**Q9. If a data is right skewed then what will be the position of median with respect to mean?**"
   ]
  },
  {
   "cell_type": "markdown",
   "id": "0c204f2a-ec33-489b-9ee4-12034105a003",
   "metadata": {},
   "source": [
    "The right-skewed distribution, has a longer or extended tail towards the higher values(right side). This longer tail is due to a few larger values (outliers) that pull the mean in the direction of the tail. As a result of this tail extension caused by the outliers, the mean is larger than the median. This happens because the mean is influenced by extreme values (outliers) in the dataset, which can significantly affect its value and cause it to shift towards the higher end of the distribution. On the other hand, the median is less influenced by extreme values and is more robust to outliers, representing the middle value when the dataset is ordered. Hence, the median remains relatively less affected and maintains a lower position compared to the mean in a right-skewed distribution."
   ]
  },
  {
   "cell_type": "markdown",
   "id": "91281ec1-47e7-4c7d-bd9f-245b7b7c44da",
   "metadata": {},
   "source": [
    "**Q10. Explain the difference between covariance and correlation. How are these measures used in\n",
    "statistical analysis?**"
   ]
  },
  {
   "cell_type": "markdown",
   "id": "d8925d28-1714-4352-90df-5bb4e2ecc377",
   "metadata": {},
   "source": [
    "Covariance and correlation are both measures used to describe the relationship and degree of association between two variables in statistics. While they are related, they measure different aspects of the relationship between variables.\n",
    "\n",
    "1. **Covariance:** Covariance measures the degree to which two random variables vary together. It indicates the direction of the linear relationship between variables. A positive covariance indicates that the variables tend to move in the same direction, while a negative covariance suggests they move in opposite directions.\n",
    "**Calculation:** Covariance is the average of the product of difference of the two random variables with their mean values respectively.\n",
    "\n",
    "2. **Correlation:** Correlation measures the strength and direction of the linear relationship between two variables. It quantifies the extent to which the variables move together. A correlation of +1 indicates a perfect positive linear relationship, -1 indicates a perfect negative linear relationship, and 0 indicates no linear relationship.\n",
    "**Calculation:** Correlation is the ratio of Covariance of the two random variables and the product of their Standard Deviation. Corr(X,Y)= [Cov(X,Y)]/[SD(X)⋅SD(Y)] \n",
    "\n",
    "Covariance and correlation help in understanding how changes in one variable are associated with changes in another, aiding in decision-making, modeling, and predicting outcomes based on the relationships between variables."
   ]
  },
  {
   "cell_type": "markdown",
   "id": "1c167220-673b-4840-9659-be6bc91d53cb",
   "metadata": {},
   "source": [
    "*Q11. What is the formula for calculating the sample mean? Provide an example calculation for a\n",
    "dataset.**"
   ]
  },
  {
   "cell_type": "markdown",
   "id": "782e3188-4516-4f56-9467-8d604d28cf30",
   "metadata": {},
   "source": [
    "The formula for calculating the sample mean (or the average) of a dataset is: Sample Mean = ratio of the sum of individual value in the dataset, and the total number of observations in the dataset.\n",
    "\n",
    "Below is an example calculation for a dataset:\n",
    "\n",
    "Consider the following dataset of exam scores: 85, 92, 78, 90, 88.\n",
    "\n",
    "To find the sample mean (average) of this dataset:\n",
    "\n",
    "Step 1: Add up all the values in the dataset:  Sum of values = 85+92+78+90+88 = 433.\n",
    "\n",
    "Step 2: Count the total number of observations (n) in the dataset: n=5\n",
    "\n",
    "Step 3: Use the formula to calculate the sample mean: Sample Mean = (Sum of values)/n = 433/5 = 86.6\n",
    "\n",
    "Therefore, the sample mean (average) of the dataset is 86.6."
   ]
  },
  {
   "cell_type": "markdown",
   "id": "fb005fb4-372b-4805-88fa-136dd21e011c",
   "metadata": {},
   "source": [
    "**Q12. For a normal distribution data what is the relationship between its measure of central tendency?**"
   ]
  },
  {
   "cell_type": "markdown",
   "id": "6a81a1b1-7a70-46a2-b8c7-24537c37c022",
   "metadata": {},
   "source": [
    "For a normal distribution, the relationship between its measures of central tendency, namely the mean, median, and mode, is consistent.\n",
    "\n",
    "In a perfectly symmetrical normal distribution:\n",
    "\n",
    "The mean, median, and mode are all equal and located at the center of the distribution.\n",
    "\n",
    "The peak of the distribution (mode) is at the same point as the median and the mean.\n",
    "\n",
    "The distribution is symmetrically bell-shaped, with the mean, median, and mode all occurring at the highest point in the center."
   ]
  },
  {
   "cell_type": "markdown",
   "id": "82bf34ff-e8e6-4d74-a75d-7749cd52d04b",
   "metadata": {},
   "source": [
    "**Q13. How is covariance different from correlation?**"
   ]
  },
  {
   "cell_type": "markdown",
   "id": "10589325-99c4-4630-bab9-348682ff9b44",
   "metadata": {},
   "source": [
    "Covariance and correlation are both measures used to understand the relationship between two variables, but they differ in several key aspects:\n",
    "\n",
    "1. Covariance measures the degree to which two random variables vary together. It indicates the direction of the linear relationship between variables. Where as, Correlation measures the strength and direction of the linear relationship between two variables. It standardizes the measure between -1 and +1.\n",
    "\n",
    "2. The units of covariance are the product of the units of the two variables. Where as Correlation values range from -1 to +1, where +1 indicates a perfect positive linear relationship, -1 indicates a perfect negative linear relationship, and 0 indicates no linear relationship.\n",
    "\n",
    "3. Covariance is given by the average of the product of difference of the two random variables with their mean values respectively. Where as, Correlation is the ratio of Covariance of the two random variables and the product of their Standard Deviation."
   ]
  },
  {
   "cell_type": "markdown",
   "id": "1e4e5712-0e9b-4451-bfcc-2f40330581a1",
   "metadata": {},
   "source": [
    "**Q14. How do outliers affect measures of central tendency and dispersion? Provide an example.**"
   ]
  },
  {
   "cell_type": "markdown",
   "id": "6f4f1e8b-8fa7-4dcc-8836-e10c8710376a",
   "metadata": {},
   "source": [
    "Outliers are data points that significantly differ from other observations in a dataset. Their presence can notably impact measures of central tendency (mean, median, mode) and measures of dispersion (range, variance, standard deviation).\n",
    "\n",
    "**Impact on Measures of Central Tendency:**\n",
    "\n",
    "1. Mean: Outliers can heavily influence the mean. A single extreme value can distort the mean, pulling it towards the outlier's value. This effect is especially pronounced in smaller datasets.\n",
    "\n",
    "2. Median: The median is less affected by outliers. Since it represents the middle value when data is ordered, it remains relatively unchanged unless the outlier affects the position of the middle value.\n",
    "\n",
    "3. Mode: Outliers generally have minimal impact on the mode, as it represents the most frequent value(s) in the dataset. Unless the outlier becomes the most frequent value, the mode remains unchanged.\n",
    "\n",
    "**Impact on Measures of Dispersion:**\n",
    "\n",
    "1. Range: Outliers significantly affect the range, especially in smaller datasets. The range expands to accommodate extreme values, resulting in a larger spread between the maximum and minimum values.\n",
    "\n",
    "2. Variance and Standard Deviation: Outliers can substantially affect variance and standard deviation. Variance is the average of squared differences from the mean, and outliers can inflate these differences, leading to a larger variance and standard deviation.\n",
    "\n",
    "Example:\n",
    "\n",
    "Consider a dataset of salaries in a company:\n",
    "\n",
    "Salaries={25,000,28,000,30,000,32,000,35,000,40,000,100,000}\n",
    "\n",
    "Mean without the outlier: (25,000+28,000+30,000+32,000+35,000+40,000)/6=31,666.67\n",
    "\n",
    "Mean with the outlier: (25,000+28,000+30,000+32,000+35,000+40,000+100,000)/7=44,857.14\n",
    "\n",
    "Median: 32,000\n",
    "\n",
    "Mode: No change (No clear mode)\n",
    "\n",
    "Range without the outlier: 40,000−25,000=15,000\n",
    "\n",
    "Range with the outlier: 100,000−25,000=75,000\n",
    "\n",
    "Variance and Standard Deviation are also significantly affected by the outlier, leading to larger values due to increased variability."
   ]
  }
 ],
 "metadata": {
  "kernelspec": {
   "display_name": "Python 3 (ipykernel)",
   "language": "python",
   "name": "python3"
  },
  "language_info": {
   "codemirror_mode": {
    "name": "ipython",
    "version": 3
   },
   "file_extension": ".py",
   "mimetype": "text/x-python",
   "name": "python",
   "nbconvert_exporter": "python",
   "pygments_lexer": "ipython3",
   "version": "3.10.8"
  }
 },
 "nbformat": 4,
 "nbformat_minor": 5
}
