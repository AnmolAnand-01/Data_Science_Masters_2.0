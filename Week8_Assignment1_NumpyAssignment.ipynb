{
 "cells": [
  {
   "cell_type": "markdown",
   "id": "60284d23-083d-449b-b0e1-ba1718a33150",
   "metadata": {},
   "source": [
    "**Consider the below code to answer further questions:**\n",
    "\n",
    "**import numpy as np**\n",
    "\n",
    "**list_ = [ ‘1’ , ’2’ , ‘3’ , ‘4’ , ‘5’ ]**\n",
    "\n",
    "**array_list = np.array(object = list_)**"
   ]
  },
  {
   "cell_type": "markdown",
   "id": "ed8d4804-f191-4d73-9b5e-31984e7957e2",
   "metadata": {},
   "source": [
    "**Q1. Is there any difference in the data type of variables list_ and array_list? If there is then write a code to print the data types of both the variables.**"
   ]
  },
  {
   "cell_type": "markdown",
   "id": "3118c176-32af-4ce3-a531-a72cb2de2e48",
   "metadata": {},
   "source": [
    "Yes, there is difference between the data type of variables list_ and array_list. The data type of list_ is \"list\", and The data type of array_list is \"numpy.ndarray\" i.e. n dimensional numpy array. The data type of the elements inside list_ is \"str\" i.e. string and the data type of the elements inside array_list is \"<U1\" i.e. unicode string of length 1 character."
   ]
  },
  {
   "cell_type": "code",
   "execution_count": 51,
   "id": "0748d986-73bc-4185-8fef-69d31cf15bce",
   "metadata": {},
   "outputs": [],
   "source": [
    "import numpy as np\n",
    "\n",
    "list_ = ['1' , '2' , '3' , '4' , '5' ]\n",
    "\n",
    "array_list = np.array(object = list_)"
   ]
  },
  {
   "cell_type": "code",
   "execution_count": 52,
   "id": "b52c3bec-fbfe-4bf4-806c-afade9f70bcd",
   "metadata": {},
   "outputs": [
    {
     "name": "stdout",
     "output_type": "stream",
     "text": [
      "Printing the list_:  ['1', '2', '3', '4', '5']\n",
      "Printing the array_list:  ['1' '2' '3' '4' '5']\n",
      "The data type of list_ is:  <class 'list'>\n",
      "The data type of array_list is:  <class 'numpy.ndarray'>\n",
      "The data type of the elements inside list_ is:  <class 'str'>\n",
      "The data type of the elements inside array_list is:  <U1\n"
     ]
    }
   ],
   "source": [
    "print(\"Printing the list_: \",list_)\n",
    "print(\"Printing the array_list: \",array_list)\n",
    "print(\"The data type of list_ is: \",type(list_))\n",
    "print(\"The data type of array_list is: \",type(array_list))\n",
    "print(\"The data type of the elements inside list_ is: \",type(list_[0]))\n",
    "print(\"The data type of the elements inside array_list is: \",array_list.dtype)"
   ]
  },
  {
   "cell_type": "markdown",
   "id": "d36f2c40-7fc2-4a3b-8f13-6a65eccf60aa",
   "metadata": {},
   "source": [
    "**Q2. Write a code to print the data type of each and every element of both the variables list_ and arra_list.**"
   ]
  },
  {
   "cell_type": "code",
   "execution_count": 54,
   "id": "a701f236-2d37-4d8c-88fc-8ae988e2dd09",
   "metadata": {},
   "outputs": [
    {
     "name": "stdout",
     "output_type": "stream",
     "text": [
      "Printing the data type of each element of the variable list_\n",
      "The data type of the element 1 inside list_ is: <class 'str'>\n",
      "The data type of the element 2 inside list_ is: <class 'str'>\n",
      "The data type of the element 3 inside list_ is: <class 'str'>\n",
      "The data type of the element 4 inside list_ is: <class 'str'>\n",
      "The data type of the element 5 inside list_ is: <class 'str'>\n",
      "\n",
      "\n",
      "Printing the data type of each element of the variable array_list\n",
      "The data type of the element 1 inside array_list is: <class 'numpy.str_'>\n",
      "The data type of the element 2 inside array_list is: <class 'numpy.str_'>\n",
      "The data type of the element 3 inside array_list is: <class 'numpy.str_'>\n",
      "The data type of the element 4 inside array_list is: <class 'numpy.str_'>\n",
      "The data type of the element 5 inside array_list is: <class 'numpy.str_'>\n",
      "\n",
      "\n",
      "The most appropriate data type according to numpy that can represent all the element inside array_list is: <U1\n",
      "\n",
      "\n"
     ]
    }
   ],
   "source": [
    "print(\"Printing the data type of each element of the variable list_\")\n",
    "for i in range(len(list_)):\n",
    "    print(\"The data type of the element {} inside list_ is: {}\".format(list_[i],type(list_[i])))\n",
    "print('\\n')\n",
    "print(\"Printing the data type of each element of the variable array_list\")\n",
    "for i in range(len(array_list)):\n",
    "    print(\"The data type of the element {} inside array_list is: {}\".format(list_[i],type(array_list[i])))\n",
    "print('\\n')\n",
    "print(\"The most appropriate data type according to numpy that can represent all the element inside array_list is: {}\".format(array_list.dtype))\n",
    "print('\\n')"
   ]
  },
  {
   "cell_type": "markdown",
   "id": "0b7cbed5-7390-42cb-be7c-d345d2ca3d97",
   "metadata": {},
   "source": [
    "**NOTE:**\n",
    "\n",
    "**<class 'str'>**: represents string object in python.\n",
    "\n",
    "**<class 'numpy.str_'>**: represents numpy-specific string object in python.\n",
    "\n",
    "**<U1**: represents that the elements of the numpy array is of the type unicode string having maximum length of 1."
   ]
  },
  {
   "cell_type": "markdown",
   "id": "ab91cd79-b37c-4076-8079-d49a850ee64a",
   "metadata": {},
   "source": [
    "**Q3. Considering the following changes in the variable, array_list:**\n",
    "\n",
    "**array_list = np.array(object = list_, dtype = int)**\n",
    "\n",
    "**Will there be any difference in the data type of the elements present in both the variables, list_ andarra_list? If so then print the data types of each and every element present in both the variables, list_ and arra_list.**"
   ]
  },
  {
   "cell_type": "markdown",
   "id": "01c56763-c3e6-466d-9068-a8ac7f9a97a9",
   "metadata": {},
   "source": [
    "Yes, the data type of the elements present in boththe variables list_, and array_list will be different after executing the statement \"array_list = np.array(object = list_, dtype = int)\".\n",
    "\n",
    "The data type of the elements inside list_ is \"str\"(same as old) i.e. string and the data type of the elements inside array_list is \"numpy.int64\" i.e. 64-bit integer object in NumPy."
   ]
  },
  {
   "cell_type": "code",
   "execution_count": 55,
   "id": "9e8c4b5d-bbf8-42f5-8d5c-73c430237add",
   "metadata": {},
   "outputs": [],
   "source": [
    "array_list = np.array(object = list_, dtype = int)"
   ]
  },
  {
   "cell_type": "code",
   "execution_count": 56,
   "id": "0be685da-634c-4f1d-bc1a-f003d9a01af8",
   "metadata": {},
   "outputs": [
    {
     "name": "stdout",
     "output_type": "stream",
     "text": [
      "Printing the list_:  ['1', '2', '3', '4', '5']\n",
      "Printing the array_list:  [1 2 3 4 5]\n",
      "\n",
      "\n",
      "Printing the data type of each element of the variable list_\n",
      "The data type of the element 1 inside list_ is: <class 'str'>\n",
      "The data type of the element 2 inside list_ is: <class 'str'>\n",
      "The data type of the element 3 inside list_ is: <class 'str'>\n",
      "The data type of the element 4 inside list_ is: <class 'str'>\n",
      "The data type of the element 5 inside list_ is: <class 'str'>\n",
      "\n",
      "\n",
      "Printing the data type of each element of the variable array_list\n",
      "The data type of the element 1 inside array_list is: <class 'numpy.int64'>\n",
      "The data type of the element 2 inside array_list is: <class 'numpy.int64'>\n",
      "The data type of the element 3 inside array_list is: <class 'numpy.int64'>\n",
      "The data type of the element 4 inside array_list is: <class 'numpy.int64'>\n",
      "The data type of the element 5 inside array_list is: <class 'numpy.int64'>\n",
      "\n",
      "\n",
      "The most appropriate data type according to numpy that can represent all the element inside array_list is: int64\n",
      "\n",
      "\n"
     ]
    }
   ],
   "source": [
    "print(\"Printing the list_: \",list_)\n",
    "print(\"Printing the array_list: \",array_list)\n",
    "print('\\n')\n",
    "\n",
    "print(\"Printing the data type of each element of the variable list_\")\n",
    "for i in range(len(list_)):\n",
    "    print(\"The data type of the element {} inside list_ is: {}\".format(list_[i],type(list_[i])))\n",
    "print('\\n')\n",
    "\n",
    "print(\"Printing the data type of each element of the variable array_list\")\n",
    "for i in range(len(array_list)):\n",
    "    print(\"The data type of the element {} inside array_list is: {}\".format(list_[i],type(array_list[i])))\n",
    "print('\\n')\n",
    "\n",
    "print(\"The most appropriate data type according to numpy that can represent all the element inside array_list is: {}\".format(array_list.dtype))\n",
    "print('\\n')"
   ]
  },
  {
   "cell_type": "markdown",
   "id": "c5333f85-4e69-48c8-b6ea-8f38f2dc485a",
   "metadata": {},
   "source": [
    "**NOTE:**\n",
    "\n",
    "**<class 'str'>**: represents string object in python.\n",
    "\n",
    "**<class 'numpy.int64'>**: 64-bit integer object in NumPy."
   ]
  },
  {
   "cell_type": "markdown",
   "id": "9538a32d-5fd7-4369-b05f-6d96737bb1b2",
   "metadata": {},
   "source": [
    "**Consider the below code to answer further questions:**\n",
    "\n",
    "**import numpy as np**\n",
    "\n",
    "**num_list = [ [ 1 , 2 , 3 ] , [ 4 , 5 , 6 ] ]**\n",
    "\n",
    "**m_array = np.array(object = num_list)**\n",
    "\n",
    "**Q4. Write a code to find the following characteristics of variable, num_array:**\n",
    "\n",
    "**(i) shape**\n",
    "\n",
    "**(ii) size**"
   ]
  },
  {
   "cell_type": "code",
   "execution_count": 57,
   "id": "5a484a70-55aa-480d-9559-3f60337ef778",
   "metadata": {},
   "outputs": [],
   "source": [
    "import numpy as np\n",
    "\n",
    "num_list = [ [ 1 , 2 , 3 ] , [ 4 , 5 , 6 ] ]\n",
    "\n",
    "m_array = np.array(object = num_list)"
   ]
  },
  {
   "cell_type": "code",
   "execution_count": 58,
   "id": "0e7bcbbc-15f3-4c03-a8dc-0b5b7a40d56e",
   "metadata": {},
   "outputs": [
    {
     "name": "stdout",
     "output_type": "stream",
     "text": [
      "The size of the array [[1 2 3]\n",
      " [4 5 6]] is: (2, 3)\n",
      "The size of the array [[1 2 3]\n",
      " [4 5 6]] is: 6\n"
     ]
    }
   ],
   "source": [
    "m_array_shape=np.shape(m_array)\n",
    "print(\"The size of the array {} is: {}\".format(m_array,m_array_shape))\n",
    "\n",
    "m_array_size=np.size(m_array)\n",
    "print(\"The size of the array {} is: {}\".format(m_array,m_array_size))"
   ]
  },
  {
   "cell_type": "markdown",
   "id": "6d0695b5-b258-4541-879b-2d175539a19a",
   "metadata": {},
   "source": [
    "\"np.shape()\" is a method present in numpy library that returns the shape of the numpy array. shape represents the the number of rows and the number of columns in the array in the form \"(no_of_rows, n0_of_cols)\".  \"np\" is an alias used for numpy.\n",
    "\n",
    "\"np.size()\" is a method present in numpy library that returns the size of the numpy array. size of an array represents the total number of eelements present in the array.  \"np\" is an alias used for numpy."
   ]
  },
  {
   "cell_type": "markdown",
   "id": "71da5c7a-fd08-4faa-b73c-0f933ab5fdc5",
   "metadata": {},
   "source": [
    "**Q5. Write a code to create numpy array of 3*3 matrix containing zeros only, using a numpy array creation function.**\n",
    "\n",
    "**[Hint: The size of the array will be 9 and the shape will be (3,3).]**"
   ]
  },
  {
   "cell_type": "code",
   "execution_count": 59,
   "id": "5e5d9101-4340-4791-aa84-823486f781c6",
   "metadata": {},
   "outputs": [
    {
     "name": "stdout",
     "output_type": "stream",
     "text": [
      "[[0. 0. 0.]\n",
      " [0. 0. 0.]\n",
      " [0. 0. 0.]]\n",
      "<class 'numpy.ndarray'>\n",
      "\n",
      "\n"
     ]
    }
   ],
   "source": [
    "zero_array=np.zeros((3,3))\n",
    "print(zero_array)\n",
    "print(type(zero_array))\n",
    "print('\\n')"
   ]
  },
  {
   "cell_type": "markdown",
   "id": "c6c8091b-e563-4a63-90a6-7e24fd1bcb89",
   "metadata": {},
   "source": [
    "\"np.zeros()\" is a method present in numpy library of python that generates an array containing all zeros as per the size passed to \"np.zeros()\". \"np\" is an alias used for numpy.\n",
    "\n",
    "\"3*3\", represents a 2-dimensional array. so, we pass \"(3,3)\" as arguement to \"np.zeros()\"."
   ]
  },
  {
   "cell_type": "markdown",
   "id": "a5b43944-8a15-487e-bacb-302ea16eaa23",
   "metadata": {},
   "source": [
    "**Q6. Create an identity matrix of shape (5,5) using numpy functions?**\n",
    "\n",
    "**[Hint: An identity matrix is a matrix containing 1 diagonally and other elements will be 0.]**"
   ]
  },
  {
   "cell_type": "code",
   "execution_count": 60,
   "id": "998e8223-42f2-4c29-8bc8-589dbf22efd7",
   "metadata": {},
   "outputs": [
    {
     "name": "stdout",
     "output_type": "stream",
     "text": [
      "[[1. 0. 0. 0. 0.]\n",
      " [0. 1. 0. 0. 0.]\n",
      " [0. 0. 1. 0. 0.]\n",
      " [0. 0. 0. 1. 0.]\n",
      " [0. 0. 0. 0. 1.]]\n"
     ]
    }
   ],
   "source": [
    "import numpy as np\n",
    "identity_matrix=np.eye(5)\n",
    "print(identity_matrix)"
   ]
  },
  {
   "cell_type": "markdown",
   "id": "fe5a7cc8-683a-4cba-bff4-6fcca8b3f0b4",
   "metadata": {},
   "source": [
    "An identity matrix is a matrix containing 1 diagonally and other elements will be 0., Identity matrix is always a square matrix.\n",
    "\n",
    "shape(5,5) represents a square matrix containing 5 rows and 5 columns.\n",
    "\n",
    "\"eye()\" is a method present in numpy library of python that generates an identity matrix as per the size passed to \"np.eye()\". \"np\" is an alias used for numpy."
   ]
  }
 ],
 "metadata": {
  "kernelspec": {
   "display_name": "Python 3 (ipykernel)",
   "language": "python",
   "name": "python3"
  },
  "language_info": {
   "codemirror_mode": {
    "name": "ipython",
    "version": 3
   },
   "file_extension": ".py",
   "mimetype": "text/x-python",
   "name": "python",
   "nbconvert_exporter": "python",
   "pygments_lexer": "ipython3",
   "version": "3.10.8"
  }
 },
 "nbformat": 4,
 "nbformat_minor": 5
}
