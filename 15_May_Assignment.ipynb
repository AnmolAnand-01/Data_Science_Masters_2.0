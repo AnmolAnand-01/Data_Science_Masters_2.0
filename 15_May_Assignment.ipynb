{
 "cells": [
  {
   "cell_type": "markdown",
   "id": "b84138f0-3dd7-450e-a622-893525ffed3d",
   "metadata": {},
   "source": [
    "Q1. How do you comment code in Python? What are the different types of comments?"
   ]
  },
  {
   "cell_type": "markdown",
   "id": "cf0800af-6a1b-4e90-b68e-5c034fec016e",
   "metadata": {},
   "source": [
    "Ans.  Comments are used by the developers for easy understanding of the code. The code that has comments at appropriate places       is easy to be understood by the fellow developers.\n",
    "      There are two types of comments in Python:\n",
    "      1. Single Line Comments:- \"#\" is used at the starting of any line to make it a single line comment.\n",
    "      2. Milti Line Comments:- Tripple quotes(\"\"\") are uesd at the starting and ending of any Sentence to make it a multi line          comment. "
   ]
  },
  {
   "cell_type": "markdown",
   "id": "691f1446-b0a3-4567-8437-9e0d65b0e118",
   "metadata": {},
   "source": [
    "Q2. What are variables in Python? How do you declare and assign values to variables?"
   ]
  },
  {
   "cell_type": "markdown",
   "id": "f4cb9ef0-a088-4d8d-b036-b14dab2d2da7",
   "metadata": {},
   "source": [
    "Ans.  Variables are the names assigned to the values of different data types.\n",
    "      Python is a dynamically typed language, so we need not to explicitely mention the data type of any value that we are           assigning to a variable.\n",
    "      Ex:- number = 10 # here we are assigning the integer 10 to a variable named \"number\".\n",
    "           name = \"Anmol\"  here we are assigning the string Anmol to a variable named \"name\".\n",
    "      The first character of any variable name can only be either an alphabet(uppercase/lowercase) or underscore(_)."
   ]
  },
  {
   "cell_type": "markdown",
   "id": "c967b13c-79fe-4b84-93fc-1f05e24b283f",
   "metadata": {},
   "source": [
    "Q3. How do you convert one data type to another in Python?"
   ]
  },
  {
   "cell_type": "markdown",
   "id": "83731c68-455d-4183-af38-5c782130a209",
   "metadata": {},
   "source": [
    "Ans.  The conversion of values of one data type to another is called \"Type-Casting\".\n",
    "      Type-Casting is of two types.\n",
    "      1. Implicit Type-Casting: In this method Python Interpreter itself converts values of one data type to other based on            the requirement of any operation.\n",
    "         Ex:- x = 8\n",
    "              y = x + 2.4\n",
    "              \"\"\" here in case of 'y' the interpreter itself converted the integer 'x' into float as '8.2' and gave the final                   output of 'y' as 10.4. \"\"\"\n",
    "      2. Explicit Type-Casting: In this method we explicitely tell the Python Interpreter to convert the values of one data            type to other.\n",
    "         Ex:- string = \"1234\"\n",
    "              num = int(string)\n",
    "              # here we are explicitely converting the string into integer."
   ]
  },
  {
   "cell_type": "markdown",
   "id": "6cbb9fcf-a7da-4938-bef5-5e76037a9a9e",
   "metadata": {},
   "source": [
    "Q4. How do you write and execute a Python script from the command line?"
   ]
  },
  {
   "cell_type": "markdown",
   "id": "6ca3742c-952e-4a6f-8de7-9ea12c952c04",
   "metadata": {},
   "source": [
    "Ans. We can write a Python script through command line by opening the Python interactive session. We can write any lines of        code but it will be lost as soon as we close the command line window.\n",
    "     By writing \"Python\" or \"Python3\" based on the version ob python installed in the local system on the command line we will      have the access to the Python installe in our system and we can write our code there. \n",
    "     To execute a python file saved with \".py\" extension through command line we can use the below command in command line:\n",
    "     \"Python Name_Of_file.py\""
   ]
  },
  {
   "cell_type": "markdown",
   "id": "4224561d-d1bc-4d4d-a1e5-760875c60bce",
   "metadata": {},
   "source": [
    "Q5. Given a list my_list = [1, 2, 3, 4, 5], write the code to slice the list and obtain the sub-list [2, 3]. "
   ]
  },
  {
   "cell_type": "code",
   "execution_count": 1,
   "id": "8e4a39e2-829a-4ab8-bd2c-08eb7bf32cb7",
   "metadata": {},
   "outputs": [
    {
     "name": "stdout",
     "output_type": "stream",
     "text": [
      "[2, 3]\n"
     ]
    }
   ],
   "source": [
    "my_list = [1, 2, 3, 4, 5]\n",
    "list2= my_list[1:3]\n",
    "print(list2)"
   ]
  },
  {
   "cell_type": "markdown",
   "id": "00435487-37cd-44c9-98f7-04512b529baf",
   "metadata": {},
   "source": [
    "Q6. What is a complex number in mathematics, and how is it represented in Python?"
   ]
  },
  {
   "cell_type": "markdown",
   "id": "1cd14dd8-a997-480b-8b46-684228a00137",
   "metadata": {},
   "source": [
    "Ans. In mathematics complex numbers are represented by the form \"a+ib\", where 'a','b' are the real numbers and 'i' represents      the imaginary number 'iota'. 'a' represents the real part of the complex number and 'ib' together represents the              imaginary part of the complex number.\n",
    "     In Python complex numbers are represented as \"a+bj\".\n",
    "     Ex:- "
   ]
  },
  {
   "cell_type": "code",
   "execution_count": 3,
   "id": "d9098ef3-15f0-4a4c-b70d-f8be603230d9",
   "metadata": {},
   "outputs": [
    {
     "name": "stdout",
     "output_type": "stream",
     "text": [
      "<class 'complex'>\n",
      "2.0\n",
      "3.0\n"
     ]
    }
   ],
   "source": [
    "num = 2+3j\n",
    "print(type(num))\n",
    "print(num.real)\n",
    "print(num.imag)"
   ]
  },
  {
   "cell_type": "markdown",
   "id": "0d109c17-a097-4647-9827-fde5110220a4",
   "metadata": {},
   "source": [
    "Q7. What is the correct way to declare a variable named age and assign the value 25 to it?"
   ]
  },
  {
   "cell_type": "code",
   "execution_count": 4,
   "id": "ba6ee435-fd75-42af-9755-54f073778bd7",
   "metadata": {},
   "outputs": [
    {
     "name": "stdout",
     "output_type": "stream",
     "text": [
      "25\n"
     ]
    }
   ],
   "source": [
    "age = 25\n",
    "print(age)"
   ]
  },
  {
   "cell_type": "markdown",
   "id": "82d9541c-b75f-41b6-a9b5-168f8b9a8ea3",
   "metadata": {},
   "source": [
    "Q8. Declare a variable named price and assign the value 9.99 to it. What data type does this variable\n",
    "belong to?"
   ]
  },
  {
   "cell_type": "code",
   "execution_count": 5,
   "id": "1b21a5d3-63a9-4219-a5c5-9279653c3358",
   "metadata": {},
   "outputs": [
    {
     "data": {
      "text/plain": [
       "float"
      ]
     },
     "execution_count": 5,
     "metadata": {},
     "output_type": "execute_result"
    }
   ],
   "source": [
    "price = 9.99 # float data type\n",
    "type(price)"
   ]
  },
  {
   "cell_type": "markdown",
   "id": "0b0b3466-4d43-48ee-95f9-e2faab89cc90",
   "metadata": {},
   "source": [
    "Q9. Create a variable named name and assign your full name to it as a string. How would you print the\n",
    "value of this variable?"
   ]
  },
  {
   "cell_type": "code",
   "execution_count": 6,
   "id": "397bb322-7b1a-43e3-9f18-fd363ccf6b02",
   "metadata": {},
   "outputs": [
    {
     "name": "stdout",
     "output_type": "stream",
     "text": [
      "Anmol Anand\n"
     ]
    }
   ],
   "source": [
    "name = \"Anmol Anand\"\n",
    "print(name)"
   ]
  },
  {
   "cell_type": "markdown",
   "id": "5a28cdc4-d63e-4518-a8fc-b8f4aae85587",
   "metadata": {},
   "source": [
    "Q10. Given the string \"Hello, World!\", extract the substring \"World\"."
   ]
  },
  {
   "cell_type": "code",
   "execution_count": 8,
   "id": "151d4927-70bc-4212-b3e9-ff141de38496",
   "metadata": {},
   "outputs": [
    {
     "name": "stdout",
     "output_type": "stream",
     "text": [
      "World\n"
     ]
    }
   ],
   "source": [
    "str1 = \"Hello, World!\"\n",
    "st = str1[7:12]\n",
    "print(st)"
   ]
  },
  {
   "cell_type": "markdown",
   "id": "b4996f98-e18c-4bd9-970e-e43f30321afa",
   "metadata": {},
   "source": [
    "Q11. Create a variable named \"is_student\" and assign it a boolean value indicating whether you are\n",
    "currently a student or not."
   ]
  },
  {
   "cell_type": "code",
   "execution_count": 9,
   "id": "34e8afec-9404-4dfa-9f49-2775bb9726c3",
   "metadata": {},
   "outputs": [
    {
     "name": "stdout",
     "output_type": "stream",
     "text": [
      "True\n"
     ]
    }
   ],
   "source": [
    "is_student = True\n",
    "print(is_student)"
   ]
  }
 ],
 "metadata": {
  "kernelspec": {
   "display_name": "Python 3 (ipykernel)",
   "language": "python",
   "name": "python3"
  },
  "language_info": {
   "codemirror_mode": {
    "name": "ipython",
    "version": 3
   },
   "file_extension": ".py",
   "mimetype": "text/x-python",
   "name": "python",
   "nbconvert_exporter": "python",
   "pygments_lexer": "ipython3",
   "version": "3.10.8"
  }
 },
 "nbformat": 4,
 "nbformat_minor": 5
}
