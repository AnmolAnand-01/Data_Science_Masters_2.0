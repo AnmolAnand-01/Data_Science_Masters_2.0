{
 "cells": [
  {
   "cell_type": "markdown",
   "id": "85087fb6-3f57-4806-8e5e-6a6a3eb4b0ec",
   "metadata": {},
   "source": [
    "Q1. What is multithreading in python? Why is it used? Name the module used to handle threads in python."
   ]
  },
  {
   "cell_type": "markdown",
   "id": "9560fbcf-59f6-452f-8467-b50a3f46ebe1",
   "metadata": {},
   "source": [
    "Multithreading helps us to break our task or application into smaller sub-tasks(called 'threads') and then use them simultaneously. Multithreading is a way in python by which we can perform tasks in a concurrent manner thus reducing the executin time of the task or application. \"Threading\" module is used to handle threads in python, we can also use \"ThreadPoolExecutor\" class which is a part of \"concurrent.futures\" module to handle threads in python.  "
   ]
  },
  {
   "cell_type": "markdown",
   "id": "b11204fd-b38d-4323-8cdd-173147e2d192",
   "metadata": {},
   "source": [
    "Q2. why threading module used? write the use of the following functions.\n",
    "1. activeCount\n",
    "2. currentThread\n",
    "3. enumerate"
   ]
  },
  {
   "cell_type": "markdown",
   "id": "f3f769a3-1b1d-4f6a-8712-ce10fbc17e76",
   "metadata": {},
   "source": [
    "\"Threading\" module is used to handle trhead operations in python for multithreading.\n",
    "1. activeCount: This function is a part of \"threading\" module in python. It returns the number of threads currently alive.\n",
    "2. currentThread: This function is also a part of \"threading\" module in python. It return the reference to current thread under execution. The returned reference contains name of the current thread under execution and it's id.\n",
    "3. enumerate: This function is also a part of \"threading\" module in python. It returns a list of all the cyrrently alive threads."
   ]
  },
  {
   "cell_type": "markdown",
   "id": "179e588d-1c36-4fe7-b2f7-8b00feb5e069",
   "metadata": {},
   "source": [
    "Q3. Explain the following functions\n",
    "1. run\n",
    "2. start\n",
    "3. join\n",
    "4. isAlive"
   ]
  },
  {
   "cell_type": "markdown",
   "id": "95f84b4c-c602-4163-b65a-27041f521ba1",
   "metadata": {},
   "source": [
    "1. run: run function contains the code to be executed when start() function is called for a thread. We can override this method by inheriting threading.Thread class in our child class.\n",
    "\n",
    "2. start: start function is used to start the execution of a thread in python. Whenever we use start function on a thread internally it invokes the run function.\n",
    "\n",
    "3. join: join function is used when we want to block the execution of the next thread untill the current thread is under execution. It is helpful in situations where we want to do some task only after the completion of the current task. We can also pass timeout as arguement to join function that represents the maximum time the next thread has to wait after which next thread will be invoked.\n",
    "\n",
    "4. isAlive: isAlive function is used to check whether a particular thread is currently running or not. It returns \"True\" is the thread is still running and \"False\" is the thread execution is over."
   ]
  },
  {
   "cell_type": "markdown",
   "id": "d015fe58-5d93-48c4-b526-b51f2e36eb58",
   "metadata": {},
   "source": [
    "Q4. Write a python program to create two threads. Thread one must print the list of squares and thread two must print the list of cubes"
   ]
  },
  {
   "cell_type": "code",
   "execution_count": 53,
   "id": "e14b1e85-3237-481c-937f-3f6e76d2c7b7",
   "metadata": {},
   "outputs": [
    {
     "name": "stdout",
     "output_type": "stream",
     "text": [
      "Using threading module\n",
      "[1, 4, 9, 16, 25, 36]\n",
      "[1, 8, 27, 64, 125, 216]\n"
     ]
    }
   ],
   "source": [
    "print(\"Using threading module\")\n",
    "\n",
    "import threading\n",
    "\n",
    "def cube(lst):\n",
    "    res=[i**3 for i in lst]\n",
    "    print(res)\n",
    "\n",
    "def square(lst):\n",
    "    res=[i**2 for i in lst]\n",
    "    print(res)\n",
    "\n",
    "lst=[1,2,3,4,5,6]\n",
    "    \n",
    "thread1=threading.Thread(target=square, args=(lst,))\n",
    "thread2=threading.Thread(target=cube, args=(lst,))\n",
    "thread1.start()\n",
    "thread2.start()"
   ]
  },
  {
   "cell_type": "code",
   "execution_count": 54,
   "id": "1b993fbb-256d-4f81-8cd5-fb10edff875a",
   "metadata": {},
   "outputs": [
    {
     "name": "stdout",
     "output_type": "stream",
     "text": [
      "Using ThreadPoolExecutor class of concurrent.futures module\n",
      "[1, 4, 9, 16, 25, 36]\n",
      "[1, 8, 27, 64, 125, 216]\n"
     ]
    }
   ],
   "source": [
    "print(\"Using ThreadPoolExecutor class of concurrent.futures module\")\n",
    "\n",
    "import concurrent.futures\n",
    "\n",
    "def cube(lst):\n",
    "    return([i**3 for i in lst])\n",
    "\n",
    "def square(lst):\n",
    "    return([i**2 for i in lst])\n",
    "\n",
    "\n",
    "lst=[1,2,3,4,5,6]\n",
    "\n",
    "with concurrent.futures.ThreadPoolExecutor() as executor:\n",
    "\n",
    "    result1 = executor.submit(square,lst)\n",
    "    result2 = executor.submit(cube,lst)\n",
    "\n",
    "print(result1.result())\n",
    "print(result2.result())"
   ]
  },
  {
   "cell_type": "code",
   "execution_count": 55,
   "id": "06c83e39-bcf5-46ca-8111-060f0f745214",
   "metadata": {},
   "outputs": [
    {
     "name": "stdout",
     "output_type": "stream",
     "text": [
      "Using map function of ThreadPoolExecutor class of concurrent.futures module\n",
      "[1, 4, 9, 16, 25, 36]\n",
      "[1, 8, 27, 64, 125, 216]\n"
     ]
    }
   ],
   "source": [
    "print(\"Using map function of ThreadPoolExecutor class of concurrent.futures module\")\n",
    "\n",
    "import concurrent.futures\n",
    "\n",
    "def cube(val):\n",
    "    return val**3 \n",
    "\n",
    "def square(val):\n",
    "    return val**2 \n",
    "\n",
    "lst=[1,2,3,4,5,6]\n",
    "\n",
    "with concurrent.futures.ThreadPoolExecutor() as executor:\n",
    "\n",
    "    result1 = executor.map(square,lst)\n",
    "    result2 = executor.map(cube,lst)\n",
    "    \n",
    "    # for result in result1:\n",
    "    #     print(result)\n",
    "print(list(result1))\n",
    "print(list(result2))"
   ]
  },
  {
   "cell_type": "markdown",
   "id": "49271abf-fab7-4e2a-a366-2ab7d6eb3bdc",
   "metadata": {},
   "source": [
    "Q5. State advantages and disadvantages of multithreading."
   ]
  },
  {
   "cell_type": "markdown",
   "id": "edc56fdc-1f2d-4a5d-9946-a81a4f1ef238",
   "metadata": {},
   "source": [
    "Advantages:- \n",
    "Multithreading allows us to perform multiple tasks concurrently.\n",
    "Helps in maintaining responsiveness of the application by preforming complex tasks in separate thread in background.\n",
    "Decreses overall time of execution of a program.\n",
    "Threads in same process share memory space which makes it easier to share data and resources between them.\n",
    "\n",
    "Disadvantages:-\n",
    "Increases the complexity by introducing synchronism mechanism like Lock, Rlock, Semaphores.\n",
    "Efficiency of multithreading highly depends on the architecture of the system on which the process is being executed.\n",
    "Debugging of multithreaded can b difficult due to issues like Race condition and deadlock.\n",
    "Multithreading behaviour may differ between python implementations such as, CPython, JPython, IronPython."
   ]
  },
  {
   "cell_type": "markdown",
   "id": "e91899c4-7e3e-4a6f-88a1-4357c14a92e4",
   "metadata": {},
   "source": [
    "Q6. Explain deadlocks and race conditions."
   ]
  },
  {
   "cell_type": "markdown",
   "id": "fe6aded7-09c5-472d-b5d3-430b14c1cbf2",
   "metadata": {},
   "source": [
    "Deadlock: It is a situation where two or more threads a struck in cyclic dependencies and none of them can meke the process execution. For Ex:- Thread-1 holds Lock-1 and is waiting for Lock-2 to be released where as, Thread-2 holds Lock-2 and is waiting for Lock-1 to be released, in this situation none of the thread will be able execute the process.\n",
    "Race condition:- When two or more threads are trying to access and update a shared resoure then there might be a situation when the modification is done on the shared data by both the threads in an unsynchronised manner and the data of shared resource become unpredictible or gets corrupt. Python provides three synchronism mechanism to avoid Race conditions:\n",
    "1. Lock\n",
    "2. Rlock\n",
    "3. Semaphores"
   ]
  }
 ],
 "metadata": {
  "kernelspec": {
   "display_name": "Python 3 (ipykernel)",
   "language": "python",
   "name": "python3"
  },
  "language_info": {
   "codemirror_mode": {
    "name": "ipython",
    "version": 3
   },
   "file_extension": ".py",
   "mimetype": "text/x-python",
   "name": "python",
   "nbconvert_exporter": "python",
   "pygments_lexer": "ipython3",
   "version": "3.10.8"
  }
 },
 "nbformat": 4,
 "nbformat_minor": 5
}
