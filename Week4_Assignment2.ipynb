{
 "cells": [
  {
   "cell_type": "markdown",
   "id": "b7a56eef-ebd3-433f-8dd5-03cd132ad167",
   "metadata": {},
   "source": [
    "Q1, Create a vehicle class with an init method having instance variables as name_of_vehicle, max_speed\n",
    "and average_of_vehicle."
   ]
  },
  {
   "cell_type": "code",
   "execution_count": 18,
   "id": "3a4a0d46-209e-4681-812e-2c9691d91e94",
   "metadata": {},
   "outputs": [
    {
     "name": "stdout",
     "output_type": "stream",
     "text": [
      "Name: Audi, Max Speed: 200, Average: 10 Kmpl\n",
      "Name: Bmw, Max Speed: 220, Average: 8 Kmpl\n",
      "Name: Fortuner, Max Speed: 160, Average: 8 Kmpl\n",
      "Name: Scorpio, Max Speed: 150, Average: 10 Kmpl\n"
     ]
    }
   ],
   "source": [
    "class vehicle:\n",
    "    def __init__(self, name_of_vehicle, max_speed, average_of_vehicle):\n",
    "        self.name_of_vehicle=name_of_vehicle\n",
    "        self.max_speed=max_speed\n",
    "        self.average_of_vehicle=average_of_vehicle\n",
    "        \n",
    "    def display_vehicle_details(self):\n",
    "        print(f\"Name: {self.name_of_vehicle}, Max Speed: {self.max_speed}, Average: {self.average_of_vehicle} Kmpl\")\n",
    "        \n",
    "Audi = vehicle(\"Audi\", 200, 10)\n",
    "Bmw = vehicle(\"Bmw\", 220, 8)\n",
    "Fortuner = vehicle(\"Fortuner\", 160, 8)\n",
    "Scorpio = vehicle(\"Scorpio\", 150, 10)\n",
    "\n",
    "Audi.display_vehicle_details()\n",
    "Bmw.display_vehicle_details()\n",
    "Fortuner.display_vehicle_details()\n",
    "Scorpio.display_vehicle_details()\n"
   ]
  },
  {
   "cell_type": "markdown",
   "id": "bd58e1fd-9698-4845-901a-b7a5124cdb7e",
   "metadata": {},
   "source": [
    "Q2. Create a child class car from the vehicle class created in Que 1, which will inherit the vehicle class.\n",
    "Create a method named seating_capacity which takes capacity as an argument and returns the name of\n",
    "the vehicle and its seating capacity."
   ]
  },
  {
   "cell_type": "code",
   "execution_count": 19,
   "id": "d02cadd7-63ec-4434-876c-1117512af069",
   "metadata": {},
   "outputs": [
    {
     "name": "stdout",
     "output_type": "stream",
     "text": [
      "Name: Audi, Seating Capacity: 4\n",
      "Name: Bmw, Seating Capacity: 4\n",
      "Name: Fortuner, Seating Capacity: 6\n",
      "Name: Scorpio, Seating Capacity: 6\n"
     ]
    }
   ],
   "source": [
    "class car(vehicle):\n",
    "    def __init__(self,name_of_vehicle,max_speed,average_of_vehicle):\n",
    "        vehicle.__init__(self,name_of_vehicle,max_speed,average_of_vehicle)\n",
    "    \n",
    "    def seating_capacity(self, capacity):\n",
    "        self.capacity=capacity\n",
    "        return f\"Name: {self.name_of_vehicle}, Seating Capacity: {self.capacity}\"\n",
    "    \n",
    "Audi = car(\"Audi\", 200, 10)\n",
    "Bmw = car(\"Bmw\", 220, 8)\n",
    "Fortuner = car(\"Fortuner\", 160, 8)\n",
    "Scorpio = car(\"Scorpio\", 150, 10)\n",
    "\n",
    "print(Audi.seating_capacity(4))\n",
    "print(Bmw.seating_capacity(4))\n",
    "print(Fortuner.seating_capacity(6))\n",
    "print(Scorpio.seating_capacity(6))"
   ]
  },
  {
   "cell_type": "markdown",
   "id": "11b00b46-385e-422f-8d72-9f9af06c6c51",
   "metadata": {},
   "source": [
    "Q3. What is multiple inheritance? Write a python code to demonstrate multiple inheritance."
   ]
  },
  {
   "cell_type": "markdown",
   "id": "b1664787-7791-447d-aaec-3b649b74599f",
   "metadata": {},
   "source": [
    "Miltiple Inheritance:- It is the method in which one class(sub-class or child class) inherits the methods and attributes of more than one class(super-class or parent class)."
   ]
  },
  {
   "cell_type": "code",
   "execution_count": 20,
   "id": "1d608efc-5347-43a6-9cd9-77169a9393dc",
   "metadata": {},
   "outputs": [
    {
     "name": "stdout",
     "output_type": "stream",
     "text": [
      "('Anmol', 23, 'Male', 'Bangalore', 'India', 101, 7546800000, 'anmol65438@gmail.com', 0.0, 'Python')\n"
     ]
    }
   ],
   "source": [
    "class person:\n",
    "    def __init__(self, name, age, gender, city, country):\n",
    "        self.name=name\n",
    "        self.age=age\n",
    "        self.gender=gender\n",
    "        self.city=city\n",
    "        self.country=country\n",
    "        \n",
    "class employee:\n",
    "    def __init__(self, emp_id, phone_no, email, experience):\n",
    "        self.emp_id=emp_id\n",
    "        self.phone_no=phone_no\n",
    "        self.email=email\n",
    "        self.experience=experience\n",
    "        \n",
    "class programmer(person, employee): # Here the class programmer inherits from person class and emplayee class therefore it represents multiple inheritance. \n",
    "    def __init__(self, name, age, gender, city, country, emp_id, phone_no, email, experience, programming_language):\n",
    "        self.programming_language=programming_language\n",
    "        person.__init__(self, name, age, gender, city, country)\n",
    "        employee.__init__(self, emp_id, phone_no, email, experience)\n",
    "        \n",
    "    def display_programmer_details(self):\n",
    "        return(self.name, self.age, self.gender, self.city, self.country, self.emp_id, self.phone_no, self.email, self.experience, self.programming_language)\n",
    "    \n",
    "    \n",
    "Anmol=programmer(\"Anmol\", 23, \"Male\", \"Bangalore\", \"India\", 101, 7546800000, \"anmol65438@gmail.com\", 0.0, \"Python\")\n",
    "print(Anmol.display_programmer_details())"
   ]
  },
  {
   "cell_type": "markdown",
   "id": "2af6d069-0dd6-400b-8051-70cc19495cb1",
   "metadata": {},
   "source": [
    "Q4. What are getter and setter in python? Create a class and create a getter and a setter method in this\n",
    "class."
   ]
  },
  {
   "cell_type": "markdown",
   "id": "66628554-13a9-4936-9db0-36ea39cf78b2",
   "metadata": {},
   "source": [
    "Getter and Setter are the methods inside a class that helps to return and modify the attribute of the object respectivaly. Getter and setter are very important for the maintaining the integrity of the data, Otherwise data can easily be modified just by using the objects of the class.\n",
    "Getter and setter can be achieved in Python in two different ways:\n",
    "1. By using normal methods as getter and setter\n",
    "2. By Property decorators for getters and setters"
   ]
  },
  {
   "cell_type": "code",
   "execution_count": 21,
   "id": "b6e7b1b5-ef8c-4388-80b0-7118954b081f",
   "metadata": {},
   "outputs": [
    {
     "name": "stdout",
     "output_type": "stream",
     "text": [
      "Example of normal Getter and Setter\n",
      "('', 0)\n",
      "('Anmol', 23)\n",
      "\n",
      "Example of Getter and Setter using Property decorator\n",
      "('', 1)\n",
      "('Anmol', 201)\n"
     ]
    }
   ],
   "source": [
    "print(\"Example of normal Getter and Setter\")\n",
    "\n",
    "class person:\n",
    "    def __init__(self, name=\"\", age=0):\n",
    "        self.name=name\n",
    "        self.age=age\n",
    "        \n",
    "    def set_details(self,name,age):\n",
    "        self.name=name\n",
    "        self.age=age\n",
    "    \n",
    "    def get_getails(self):\n",
    "        return self.name, self.age\n",
    "Anmol=person()\n",
    "print(Anmol.get_getails())\n",
    "Anmol.set_details(\"Anmol\",23)\n",
    "print(Anmol.get_getails())\n",
    "    \n",
    "print(\"\\nExample of Getter and Setter using Property decorator\")\n",
    "\n",
    "class employee:\n",
    "    def __init__(self, name=\"\", emp_id=1):\n",
    "        self.name=name\n",
    "        self.emp_id=emp_id\n",
    "        \n",
    "    @property    \n",
    "    def details(self):\n",
    "        return self.name, self.emp_id\n",
    "    \n",
    "    @details.setter\n",
    "    def details(self,name_age):\n",
    "        self.name=name_age[0]\n",
    "        self.emp_id=name_age[1]\n",
    "        \n",
    "Anand=employee()\n",
    "print(Anand.details)\n",
    "Anand.details= (\"Anmol\",201)\n",
    "print(Anand.details)"
   ]
  },
  {
   "cell_type": "markdown",
   "id": "d8706209-24a0-44d6-8262-bdb5f4c51ea1",
   "metadata": {},
   "source": [
    "Q5.What is method overriding in python? Write a python code to demonstrate method overriding."
   ]
  },
  {
   "cell_type": "markdown",
   "id": "fa2d5f89-eaa0-4956-b7bd-1adf5c06ba05",
   "metadata": {},
   "source": [
    "Method overriding is the result of inheritance. If parrent and child classes have methods with same name but the behaviour of the method is different for different classes then this is called Method overriding."
   ]
  },
  {
   "cell_type": "code",
   "execution_count": 22,
   "id": "08787e4a-98cf-48b6-8fa4-9bc53cffb253",
   "metadata": {},
   "outputs": [
    {
     "name": "stdout",
     "output_type": "stream",
     "text": [
      "Example of method overriding\n",
      "Meow\n",
      "Bark\n"
     ]
    }
   ],
   "source": [
    "print(\"Example of method overriding\")\n",
    "\n",
    "class Animal:\n",
    "    def __init__(self,animal_type=\"Mammal\"):\n",
    "        self.animal_type=animal_type\n",
    "                 \n",
    "    def make_sound(self):\n",
    "        pass\n",
    "\n",
    "class Cat(Animal):\n",
    "    def __init__(self,name):\n",
    "        self.name=name\n",
    "        Animal.__init__(self)\n",
    "    \n",
    "    def make_sound(self): # make_sound method is defind inside the Animal(Parent) class as well but it's behaviour is different for both the classes\n",
    "        print(\"Meow\")\n",
    "        \n",
    "class Dog(Animal):\n",
    "    def __init__(self,name):\n",
    "        self.name=name\n",
    "        Animal.__init__(self)\n",
    "    \n",
    "    def make_sound(self): # make_sound method is defind inside the Animal(Parent) class as well but it's behaviour is different for both the classes\n",
    "        print(\"Bark\")\n",
    "        \n",
    "        \n",
    "Elephant=Animal()\n",
    "Elephant.make_sound()#this will not print anything\n",
    "Kitty=Cat(\"Kitty\")\n",
    "Kitty.make_sound()#this will print \"Meow\"\n",
    "Tommy=Dog(\"Tommy\")\n",
    "Tommy.make_sound()#this will print \"Bark\""
   ]
  },
  {
   "cell_type": "code",
   "execution_count": null,
   "id": "2726ef62-1c3a-46f2-9562-e08cb5a76c46",
   "metadata": {},
   "outputs": [],
   "source": []
  }
 ],
 "metadata": {
  "kernelspec": {
   "display_name": "Python 3 (ipykernel)",
   "language": "python",
   "name": "python3"
  },
  "language_info": {
   "codemirror_mode": {
    "name": "ipython",
    "version": 3
   },
   "file_extension": ".py",
   "mimetype": "text/x-python",
   "name": "python",
   "nbconvert_exporter": "python",
   "pygments_lexer": "ipython3",
   "version": "3.10.8"
  }
 },
 "nbformat": 4,
 "nbformat_minor": 5
}
