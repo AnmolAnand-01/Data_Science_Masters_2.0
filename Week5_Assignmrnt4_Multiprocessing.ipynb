{
 "cells": [
  {
   "cell_type": "markdown",
   "id": "4972b9fe-81c2-428a-8bb0-574e51378dfe",
   "metadata": {},
   "source": [
    "Q1. What is multiprocessing in python? Why is it useful?"
   ]
  },
  {
   "cell_type": "markdown",
   "id": "2bb41578-3999-490f-89e9-619e237c6856",
   "metadata": {},
   "source": [
    "Multiprocessing is a technique that allows us to take advantage of multiple CPUs or multiple CPU cores by running multiple process concurrently hence improve perforance of CPU bounded tasks. Multiprocessing creates multiple processes, each with it's own python interpreter and memory space.\n",
    "Multiprocessing is useful because:-\n",
    "1. Multiprocessing allows us to achieve true parallelism. Each task has it's own interpreter and can occupy separate CPU/CPU core.\n",
    "2. Due to utilisation of different CPU cores overall performance of the application is improved.\n",
    "3. Each process has it's own memory space so the chance of data getting corrupt is significantly reduced with Multiprocessing. \n",
    "4. If any error or exception arises in a process then it will not effect the other processes.\n"
   ]
  },
  {
   "cell_type": "markdown",
   "id": "bce56e92-9078-44be-92b8-257b4be1a938",
   "metadata": {},
   "source": [
    "Q2. What are the differences between multiprocessing and multithreading?"
   ]
  },
  {
   "cell_type": "markdown",
   "id": "0ee5c599-5b59-4716-bd31-92d5e7659b13",
   "metadata": {},
   "source": [
    "1. In Multiprocessing multiple independent processes run concurrently, where as in multithreading multiple threads run concurrently within the same process.\n",
    "2. Processes in multiprocessing have separate memory space and each process use their own interpreter, where as the threads in multithreading share a common memory space.\n",
    "3. Processes in multiprocessing donot share the memory space by default so the communication between the processes are a bit complex, where as the connumication between the threads is easy due to the shared memory space between the threads.\n",
    "4. Parallelism in true sense is achieved in Multiprocessing by utilising different CPUs/CPU cores, wherw as in multithreading the Global Interpreter Lock(GIL) restricts the execution of threads to one at a time.\n",
    "5. In Multiprocessing if any bug or crach occurs in one process then it will not effect the other processes, where as in case of multithreading bug or crash in one of the threads may effect the entire process because the memory space is common for all the threads within the process."
   ]
  },
  {
   "cell_type": "code",
   "execution_count": null,
   "id": "14623a2e-b60d-4bbc-9105-9dd357d591e7",
   "metadata": {},
   "outputs": [],
   "source": [
    "Q3. Write a python code to create a process using the multiprocessing module."
   ]
  },
  {
   "cell_type": "code",
   "execution_count": 40,
   "id": "5c56140a-56d3-4255-be1b-f29832976606",
   "metadata": {},
   "outputs": [
    {
     "name": "stdout",
     "output_type": "stream",
     "text": [
      "Example of Multiprocessing using Process class of multiprocessing module\n",
      "\n",
      "\n",
      "[1, 4, 9, 16, 25, 36]\n"
     ]
    }
   ],
   "source": [
    "print(\"Example of Multiprocessing using Process class of multiprocessing module\")\n",
    "\n",
    "print('\\n')\n",
    "\n",
    "import multiprocessing\n",
    "\n",
    "def square(lst):\n",
    "    print([i**2 for i in lst])\n",
    "\n",
    "if __name__ == \"__main__\":\n",
    "    lst=[1,2,3,4,5,6]\n",
    "    process=multiprocessing.Process(target=square, args=(lst,))\n",
    "    process.start()\n",
    "    process.join()\n",
    "    # print(list(process))"
   ]
  },
  {
   "cell_type": "code",
   "execution_count": 41,
   "id": "db3a7233-c774-45b9-a1af-976c52c322f5",
   "metadata": {},
   "outputs": [
    {
     "name": "stdout",
     "output_type": "stream",
     "text": [
      "Example of Multiprocessing using Pool class of multiprocessing module\n",
      "\n",
      "\n",
      "[1, 8, 27, 64, 125, 216]\n"
     ]
    }
   ],
   "source": [
    "print(\"Example of Multiprocessing using Pool class of multiprocessing module\")\n",
    "\n",
    "print('\\n')\n",
    "\n",
    "import multiprocessing\n",
    "\n",
    "def cube(val):\n",
    "    return val**3\n",
    "    \n",
    "if __name__ == \"__main__\":\n",
    "    lst = [1,2,3,4,5,6]\n",
    "    with multiprocessing.Pool() as pool:\n",
    "        res = pool.map(cube,lst)\n",
    "        print(res)\n",
    "        "
   ]
  },
  {
   "cell_type": "code",
   "execution_count": 42,
   "id": "999ce794-ff8f-4deb-82bb-8b9618669ea8",
   "metadata": {},
   "outputs": [
    {
     "name": "stdout",
     "output_type": "stream",
     "text": [
      "Example of Multiprocessing using ProcessPoolExecutor class of concurrent.futures module\n",
      "\n",
      "\n",
      "[1, 16, 81, 256, 625, 1296]\n"
     ]
    }
   ],
   "source": [
    "print(\"Example of Multiprocessing using ProcessPoolExecutor class of concurrent.futures module\")\n",
    "\n",
    "print('\\n')\n",
    "\n",
    "import concurrent.futures\n",
    "\n",
    "def pow4(lst):\n",
    "    return [i**4 for i in lst]\n",
    "\n",
    "if __name__ == \"__main__\":\n",
    "    lst=[1,2,3,4,5,6]\n",
    "    with concurrent.futures.ProcessPoolExecutor() as Executor:\n",
    "        Result = Executor.submit(pow4,lst)\n",
    "        print(Result.result())"
   ]
  },
  {
   "cell_type": "code",
   "execution_count": 43,
   "id": "4fe40ece-7588-4d37-a9dc-331062cab59c",
   "metadata": {},
   "outputs": [
    {
     "name": "stdout",
     "output_type": "stream",
     "text": [
      "Example of Multiprocessing using map function of ProcessPoolExecutor class of concurrent.futures module\n",
      "\n",
      "\n",
      "[1, 32, 243, 1024, 3125, 7776]\n"
     ]
    }
   ],
   "source": [
    "print(\"Example of Multiprocessing using map function of ProcessPoolExecutor class of concurrent.futures module\")\n",
    "\n",
    "print('\\n')\n",
    "\n",
    "import concurrent.futures\n",
    "\n",
    "def pow5(val):\n",
    "    return val**5 \n",
    "\n",
    "if __name__ == \"__main__\":\n",
    "    lst=[1,2,3,4,5,6]\n",
    "    with concurrent.futures.ProcessPoolExecutor() as Executor:\n",
    "        Result = Executor.map(pow5,lst)\n",
    "        print(list(Result))"
   ]
  },
  {
   "cell_type": "markdown",
   "id": "adcc5eed-45b2-40ff-b603-89088e58159c",
   "metadata": {},
   "source": [
    "Q4. What is a multiprocessing pool in python? Why is it used?"
   ]
  },
  {
   "cell_type": "markdown",
   "id": "5c702bd6-16ed-4bc2-90c0-b38e37ed8a66",
   "metadata": {},
   "source": [
    "Pool is a class of multiprocessing module in Python. It is a mechanism to achieve parallelism for the execution of a function across multiple values or tasks. It is used to execute processes in parallel by distributing the work among the pool of worker processes. \n",
    "It is very simple method to achieve parallelism. We just need to pass the function and the list of inputs, the Pool will automatically manage the distribution of tasks among the worker processes.\n",
    "It allows us the efficient utilisation of the resources because as the Pool automatically takes care of the creation and destruction of the processes.\n",
    "We can also pass an arguement called \"processes\" with the Pool that specifies the number of worker processes among which the tasks shuld be distributed.\n",
    "For example: \"with multiprocessing.Pool(processes=4) as pool:\" here the task will be distributed among 4 worker processes.\n",
    "If we do not pass any thing to Pool(\"with multiprocessing.Pool() as pool:\") it will take the default value as number of available CPU cores."
   ]
  },
  {
   "cell_type": "markdown",
   "id": "820264d1-dd1f-4745-a2f8-00cf32a8d76c",
   "metadata": {},
   "source": [
    "Q5. How can we create a pool of worker processes in python using the multiprocessing module?"
   ]
  },
  {
   "cell_type": "markdown",
   "id": "1d963f12-047d-4a63-87ff-145ceac741a0",
   "metadata": {},
   "source": [
    "Pool is used to parallelize the execution of a function for multiple values or tasks by distributing the work to worker processes.\n",
    "Worker processes are automatically created but we can also specify the number of worker prosesses by using \"processes\" arguement with Pool.\n",
    "For ex:-"
   ]
  },
  {
   "cell_type": "code",
   "execution_count": 25,
   "id": "208a9570-ff7c-43cd-814b-25d1ac32327d",
   "metadata": {},
   "outputs": [
    {
     "name": "stdout",
     "output_type": "stream",
     "text": [
      "[1, 4, 9, 16, 25, 36]\n"
     ]
    }
   ],
   "source": [
    "import multiprocessing\n",
    "\n",
    "def square(val):\n",
    "    return val**2\n",
    "\n",
    "if __name__ == \"__main__\":\n",
    "    lst = [1,2,3,4,5,6]\n",
    "    with multiprocessing.Pool(processes=4) as pool: \n",
    "        res=pool.map(square,lst)\n",
    "        print(res)\n",
    "        \n",
    "\"\"\" Here processes=4 arguement in \" with multiprocessing.Pool(processes=4) as pool: \" will create 4 worker processes to perfor the task. \"\"\""
   ]
  },
  {
   "cell_type": "code",
   "execution_count": 26,
   "id": "0f6c5c89-0e9e-447c-b6af-a8667d7d14c6",
   "metadata": {},
   "outputs": [
    {
     "name": "stdout",
     "output_type": "stream",
     "text": [
      "[1, 8, 27, 64, 125, 216]\n"
     ]
    }
   ],
   "source": [
    "import multiprocessing\n",
    "\n",
    "def cube(val):\n",
    "    return val**3\n",
    "\n",
    "if __name__ == \"__main__\":\n",
    "    lst = [1,2,3,4,5,6]\n",
    "    with multiprocessing.Pool() as pool: # here processes=4 will create 4 worker processes to perfor the task\n",
    "        res=pool.map(cube,lst)\n",
    "        print(res)\n",
    "        \n",
    "\"\"\" Here we are not passing the processes arguement in \" with multiprocessing.Pool() as pool: \" so it will take the default value as the number of availabe CPU cores and will create that much worker processe to perform the tasks.\"\"\""
   ]
  },
  {
   "cell_type": "markdown",
   "id": "8238b379-ac53-486c-9e87-dde6b90e92c6",
   "metadata": {},
   "source": [
    "Q6. Write a python program to create 4 processes, each process should print a different number using the multiprocessing module in python."
   ]
  },
  {
   "cell_type": "code",
   "execution_count": 35,
   "id": "d9c728bc-251d-4047-a2e6-273c01cbd768",
   "metadata": {},
   "outputs": [
    {
     "name": "stdout",
     "output_type": "stream",
     "text": [
      "Using process class of multiprocessing module\n",
      "\n",
      "\n",
      "The value printed by process with id 5734 is: 1\n",
      "The value printed by process with id 5737 is: 2\n",
      "The value printed by process with id 5748 is: 3\n",
      "The value printed by process with id 5757 is: 4\n"
     ]
    }
   ],
   "source": [
    "print(\"Using Process class of multiprocessing module\")\n",
    "\n",
    "print('\\n')\n",
    "\n",
    "def print_no(val):\n",
    "    print(f\"The value printed by process with id {multiprocessing.current_process().ident} is:\", val, end=\"\\n\")\n",
    "    \n",
    "if __name__ == \"__main__\":\n",
    "    lst=[1,2,3,4]\n",
    "    process_lst=[]\n",
    "    for i in lst:\n",
    "        process=multiprocessing.Process(target = print_no, args=(i,))\n",
    "        process.start()\n",
    "        process_lst.append(process)\n",
    "        \n",
    "        \n",
    "    for pros in process_lst:\n",
    "        pros.join()"
   ]
  },
  {
   "cell_type": "code",
   "execution_count": 39,
   "id": "1905ee99-c403-4f68-a739-056aa11c87ee",
   "metadata": {},
   "outputs": [
    {
     "name": "stdout",
     "output_type": "stream",
     "text": [
      "Using Pool class of multiprocessing module\n",
      "\n",
      "\n",
      "The value printed by process with id 6028 is: 1\n",
      "The value printed by process with id 6029 is: 2\n",
      "The value printed by process with id 6030 is: 3\n",
      "The value printed by process with id 6031 is: 4\n"
     ]
    }
   ],
   "source": [
    "print(\"Using Pool class of multiprocessing module\")\n",
    "\n",
    "print('\\n')\n",
    "\n",
    "def print_no(val):\n",
    "    return (f\"The value printed by process with id {multiprocessing.current_process().ident} is: {val}\")\n",
    "    \n",
    "if __name__ == \"__main__\":\n",
    "    lst=[1,2,3,4]\n",
    "    with multiprocessing.Pool(processes=4) as pool:\n",
    "        res=pool.map(print_no,lst)\n",
    "        \n",
    "        for op in res:\n",
    "            print(op)"
   ]
  },
  {
   "cell_type": "code",
   "execution_count": null,
   "id": "a885c851-55f8-4983-be71-17813e97e5cd",
   "metadata": {},
   "outputs": [],
   "source": []
  },
  {
   "cell_type": "code",
   "execution_count": null,
   "id": "f0acabab-0a6a-48d0-9f54-8821f400127a",
   "metadata": {},
   "outputs": [],
   "source": []
  }
 ],
 "metadata": {
  "kernelspec": {
   "display_name": "Python 3 (ipykernel)",
   "language": "python",
   "name": "python3"
  },
  "language_info": {
   "codemirror_mode": {
    "name": "ipython",
    "version": 3
   },
   "file_extension": ".py",
   "mimetype": "text/x-python",
   "name": "python",
   "nbconvert_exporter": "python",
   "pygments_lexer": "ipython3",
   "version": "3.10.8"
  }
 },
 "nbformat": 4,
 "nbformat_minor": 5
}
