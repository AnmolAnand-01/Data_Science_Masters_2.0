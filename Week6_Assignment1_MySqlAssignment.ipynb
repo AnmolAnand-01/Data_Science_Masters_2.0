{
 "cells": [
  {
   "cell_type": "markdown",
   "id": "1dec0cb8-c241-4b20-8af2-125ef913109a",
   "metadata": {},
   "source": [
    "Q1. What is a database? Differentiate between SQL and NoSQL databases."
   ]
  },
  {
   "cell_type": "markdown",
   "id": "9e15a31e-4204-4083-81f5-121c2c4a8b1f",
   "metadata": {},
   "source": [
    "Database is an electronic place or system where data is stored in a way that it csn be easily accessed managed and updated.\n",
    "\n",
    "Differentiate between SQL and NoSQL databases.\n",
    "1. In SQL databases data can be stored in form of tables, where as in NOSQL databases data can be stored in form of key value pairs.\n",
    "2. There is a fixed schema for every table of SQL database, where as in NOSQL databases schema is not required to store the data.\n",
    "3. SQL databases use SQL (Structured Query Language) as the standard query language, where as NoSQL databases use their own query languages or APIs.\n",
    "4. SQL databases follow ACID (Atomicity, Consistency, Isolation, Durability) properties, ensuring data consistency and reliability, where as NoSQL databases may not strictly stck to ACID properties, and many use BASE (Basically Available, Soft state, Eventually consistent) principles."
   ]
  },
  {
   "cell_type": "markdown",
   "id": "6562b1b0-2af3-4490-ad1c-11466c6f5c76",
   "metadata": {},
   "source": [
    "Q2. What is DDL? Explain why CREATE, DROP, ALTER, and TRUNCATE are used with an example."
   ]
  },
  {
   "cell_type": "markdown",
   "id": "c75b93d8-879a-4fe6-9393-12916368f64b",
   "metadata": {},
   "source": [
    "DDL stands for Data Definition language. It is a subset of SQL that is used to define, manage and manipulate the structure and organisation of a database.\n",
    "1. CREATE:- \"CREATE\" is used to create database, tables inside a database or a view of the database.\n",
    "eg:- CREATE TABLE IF NOT EXISTS TABLE_NAME\n",
    "2. DROP:- \"DROP\" is used to delete database, teble inside a database or a view of the database.\n",
    "eg:- DROP TABLE TABLE_NAME\n",
    "3. ALTER:- \"ALTER\" is used to do modification in table structure, e.g: column datatype, add/remove columns, rename table.\n",
    "eg:- ALTER TABLE  TABLE_NAME RENAME TO NEW_TABLE_NAME\n",
    "4. TRUNCATE:- \"TRUNCATE\" removes all the tuples from the table. It preserves the schema of the table.\n",
    "eg:- TRUNCATE TABLE TABLE_NAME"
   ]
  },
  {
   "cell_type": "markdown",
   "id": "f62b100c-9f01-40e1-aa6e-bd39ad1e1299",
   "metadata": {},
   "source": [
    "Q3. What is DML? Explain INSERT, UPDATE, and DELETE with an example."
   ]
  },
  {
   "cell_type": "markdown",
   "id": "1d3e18e9-8ddb-495e-9e18-e3a596010c5e",
   "metadata": {},
   "source": [
    "DDL stands for Data Modification language. It is a subset of SQL that is used to perform modifications in the data stored in the database.\n",
    "1. INSERT:- \"INSETR\" is used to insert data into a table.\n",
    "eg:- INSERT INTO TABLE_NAME(COL1, COL2) VALUES (VAL1, VAL2)\n",
    "2. UPDATE:- \"UPDATE\" is used to modify existing data in a database table. It allows us to change the values of one or more columns for specific rows that meet a specified condition.\n",
    "eg:- UPDATE TABLE_NAME SET COL1=VAL1, COL2=VAL2 WHERE id=1\n",
    "3. DELETE:- \"DELETE\" is used to remove specific rows or records from a database table based on a given condition. It allows you to selectively delete data from a table while keeping the table's structure intact. \n",
    "eg:- DELETE FROM TABLE_NAME WHERE id=1"
   ]
  },
  {
   "cell_type": "markdown",
   "id": "34fe8e04-df66-4a79-a43a-bb42984267a6",
   "metadata": {},
   "source": [
    "Q4. What is DQL? Explain SELECT with an example."
   ]
  },
  {
   "cell_type": "markdown",
   "id": "917e4d1c-4f29-4be5-a7c7-7e8014796246",
   "metadata": {},
   "source": [
    "DQL stands for Data ruery language. It is a subset of SQL that is used to retrive tata from a table.\n",
    "SELECT:- \"SELECT\" is used to retrieve data from one or more tables in a database. It allows us to specify which columns we want to retrieve and optionally apply conditions to filter the rows.\n",
    "eg:- SELECT COLUMN_NAMES FROM TABLE_NAME, SELECT * FROM TABLE_NAME, SELECT COLUMN_NAME FROM TABLE_NAME WHERE CONDITION"
   ]
  },
  {
   "cell_type": "markdown",
   "id": "a3f0e7c6-b2f8-4a7d-b34d-43d73c899710",
   "metadata": {},
   "source": [
    "Q5. Explain Primary Key and Foreign Key."
   ]
  },
  {
   "cell_type": "markdown",
   "id": "a7859e86-ccba-40a1-be84-e9595e241c99",
   "metadata": {},
   "source": [
    "Primary Key:- In SQL, a primary key is a field or a combination of fields (columns) in a database table that uniquely identifies each row or record in the table. We can define a primary key using the 'PRIMARY KEY' constraint when creating a table. Typically, a primary key is created on a single column, but it can also be created on a combination of columns.\n",
    "eg:- CREATE TABLE employees (\n",
    "    employee_id INT PRIMARY KEY,\n",
    "    first_name VARCHAR(50),\n",
    "    last_name VARCHAR(50)\n",
    ");\n",
    "CREATE TABLE orders (\n",
    "    order_id INT,\n",
    "    customer_id INT,\n",
    "    order_date DATE,\n",
    "    PRIMARY KEY (order_id, customer_id)\n",
    ");\n",
    "\n",
    "Foreign Key:- In SQL, a foreign key is a column or a set of columns in a table that establishes a link between the data in two tables. It defines a relationship between two tables by enforcing referential integrity, ensuring that data in the foreign key column(s) of one table matches the values of the primary key in another table. \n",
    "eg:-CREATE TABLE orders (\n",
    "    order_id INT PRIMARY KEY,\n",
    "    customer_id INT,\n",
    "    order_date DATE,\n",
    "    FOREIGN KEY (customer_id) REFERENCES customers(customer_id)\n",
    ");"
   ]
  },
  {
   "cell_type": "code",
   "execution_count": null,
   "id": "90ccced9-d28e-486e-8b51-1224c760c766",
   "metadata": {},
   "outputs": [],
   "source": [
    "Q6. Write a python code to connect MySQL to python. Explain the cursor() and execute() method."
   ]
  },
  {
   "cell_type": "code",
   "execution_count": null,
   "id": "08bb91eb-9c85-40ed-9bc9-0ba6eb420fca",
   "metadata": {},
   "outputs": [],
   "source": [
    "# Python code to connect to MySql to python.\n",
    "#pip install mysql-connector-python\n",
    "import mysql.connector\n",
    "\n",
    "mydb = mysql.connector.connect(\n",
    "  host=\"localhost\",\n",
    "  user=\"abc\",\n",
    "  password=\"password\"\n",
    ")"
   ]
  },
  {
   "cell_type": "markdown",
   "id": "2f4dc77d-4c11-41bd-8b72-ae061957d016",
   "metadata": {},
   "source": [
    "cursor() method is used to create a cursor object that allows us to interact with the database, execute SQL queries, and fetch data. This cursor is what allows us to execute SQL queries.\n",
    "execute() method is fundamental for working with databases in Python and is used to send SQL statements to the database for execution, whether it's for querying data, updating records, or performing other database operations."
   ]
  },
  {
   "cell_type": "markdown",
   "id": "3f59df8d-e1db-4866-85bf-b3d30a785161",
   "metadata": {},
   "source": [
    "Q7. Give the order of execution of SQL clauses in an SQL query."
   ]
  },
  {
   "cell_type": "markdown",
   "id": "247f7e1e-a47b-4635-abe3-412d4976fd58",
   "metadata": {},
   "source": [
    "The order of execution of SQL clauses in an SQL query is as follows:\n",
    "1. FROM: Specifies the table(s) from which to retrieve data.\n",
    "2. WHERE: Filters the rows based on a specified condition.\n",
    "3. GROUP BY: Groups the result set by one or more columns based on certain aggregation function.\n",
    "4. HAVING: Applies a condition to the grouped rows.\n",
    "5. SELECT: Specifies which columns to include in the result set.\n",
    "6. DISTINCT: Used to find distinct values in a table.\n",
    "7. ORDER BY: Sorts the result set based on one or more columns.\n",
    "etc"
   ]
  }
 ],
 "metadata": {
  "kernelspec": {
   "display_name": "Python 3 (ipykernel)",
   "language": "python",
   "name": "python3"
  },
  "language_info": {
   "codemirror_mode": {
    "name": "ipython",
    "version": 3
   },
   "file_extension": ".py",
   "mimetype": "text/x-python",
   "name": "python",
   "nbconvert_exporter": "python",
   "pygments_lexer": "ipython3",
   "version": "3.10.8"
  }
 },
 "nbformat": 4,
 "nbformat_minor": 5
}
