{
 "cells": [
  {
   "cell_type": "markdown",
   "id": "a7310b9c-4da2-4d14-a656-7fdaa69af9f3",
   "metadata": {},
   "source": [
    "**Q1. Create a Pandas Series that contains the following data: 4, 8, 15, 16, 23, and 42. Then, print the series.**"
   ]
  },
  {
   "cell_type": "code",
   "execution_count": 1,
   "id": "6dfd2492-73ef-4a54-800a-dfcdbdba831b",
   "metadata": {},
   "outputs": [
    {
     "name": "stdout",
     "output_type": "stream",
     "text": [
      "<class 'pandas.core.series.Series'>\n",
      "0     4\n",
      "1     8\n",
      "2    15\n",
      "3    16\n",
      "4    23\n",
      "5    42\n",
      "dtype: int64\n"
     ]
    }
   ],
   "source": [
    "import pandas as pd\n",
    "\n",
    "#Creating series using python list.\n",
    "lst=[4, 8, 15, 16, 23, 42]\n",
    "series_data=pd.Series(lst)\n",
    "\n",
    "print(type(series_data))\n",
    "print(series_data)"
   ]
  },
  {
   "cell_type": "code",
   "execution_count": 2,
   "id": "aab9133d-0330-4281-9ea5-0bfd736929d0",
   "metadata": {},
   "outputs": [
    {
     "name": "stdout",
     "output_type": "stream",
     "text": [
      "<class 'pandas.core.series.Series'>\n",
      "0     4\n",
      "1     8\n",
      "2    15\n",
      "3    16\n",
      "4    23\n",
      "5    42\n",
      "dtype: int64\n"
     ]
    }
   ],
   "source": [
    "import numpy as np\n",
    "\n",
    "#Creating series using numpy array.\n",
    "np_array=np.array([4, 8, 15, 16, 23, 42])\n",
    "series_data2=pd.Series(np_array)\n",
    "\n",
    "print(type(series_data2))\n",
    "print(series_data2)"
   ]
  },
  {
   "cell_type": "markdown",
   "id": "5230183d-56a2-47d6-8565-3399186b481c",
   "metadata": {},
   "source": [
    "\"pd.Series()\" is an built-in function in pandas library, that accepts a numpy array or a python list and returns a series. \"pd\" is an alias for pandas."
   ]
  },
  {
   "cell_type": "markdown",
   "id": "8ad21a8c-7b38-4ef1-82e6-59acaf721bf1",
   "metadata": {},
   "source": [
    "**Q2. Create a variable of list type containing 10 elements in it, and apply pandas.Series function on the\n",
    "variable print it.**"
   ]
  },
  {
   "cell_type": "code",
   "execution_count": 3,
   "id": "c8d0ef07-7fdc-4ddb-8953-2a7ea649035b",
   "metadata": {},
   "outputs": [
    {
     "name": "stdout",
     "output_type": "stream",
     "text": [
      "0      1\n",
      "1      4\n",
      "2      9\n",
      "3     16\n",
      "4     25\n",
      "5     36\n",
      "6     49\n",
      "7     64\n",
      "8     81\n",
      "9    100\n",
      "dtype: int64\n"
     ]
    }
   ],
   "source": [
    "import pandas as pd\n",
    "\n",
    "lst=[i*i for i in range(1,11)]\n",
    "df=pd.Series(lst)\n",
    "\n",
    "print(df)"
   ]
  },
  {
   "cell_type": "markdown",
   "id": "0680d964-0de7-43c2-aa00-3db4cff2db18",
   "metadata": {},
   "source": [
    "\"pd.Series()\" is an built-in function in pandas library, that accepts a numpy array or a python list and returns a series. \"pd\" is an alias for pandas."
   ]
  },
  {
   "cell_type": "markdown",
   "id": "07465873-3c5f-4d9b-baa8-44d092657240",
   "metadata": {},
   "source": [
    "**Q3. Create a Pandas DataFrame that contains the following data:**\n",
    "\n",
    "**Name      Age     Gender**\n",
    "\n",
    "**Alice     25      Female**\n",
    "\n",
    "**Bob       30      Male**\n",
    "\n",
    "**Claire    27      Female**\n",
    "\n",
    "**Then, print the DataFrame.***"
   ]
  },
  {
   "cell_type": "code",
   "execution_count": 4,
   "id": "9b5f2879-643a-48c7-a6fc-83fe3011ca06",
   "metadata": {},
   "outputs": [
    {
     "name": "stdout",
     "output_type": "stream",
     "text": [
      "<class 'pandas.core.frame.DataFrame'>\n",
      "     Name  Age  Gender\n",
      "0   Alice   25  Female\n",
      "1     Bob   30    Male\n",
      "2  Clarie   27  Female\n"
     ]
    }
   ],
   "source": [
    "import pandas as pd\n",
    "\n",
    "data={'Name' : ['Alice', 'Bob', 'Clarie'],\n",
    "      'Age' : [25, 30, 27],\n",
    "      'Gender' : ['Female', 'Male', 'Female']}\n",
    "df1=pd.DataFrame(data)\n",
    "\n",
    "print(type(df1))\n",
    "print(df1)"
   ]
  },
  {
   "cell_type": "markdown",
   "id": "890dc5b6-60da-4a37-96e7-5d21d2c759be",
   "metadata": {},
   "source": [
    "\"pd.DataFrame()\" is an built-in function in pandas library that accepts a dictionary, a list of lists, a list of dictionaries, a NumPy array, or another DataFrame and returns a DataFrame. \"pd\" is an alias for pandas."
   ]
  },
  {
   "cell_type": "markdown",
   "id": "ad758c93-7d79-4252-b782-6cad516fd1b3",
   "metadata": {},
   "source": [
    "**Q4. What is ‘DataFrame’ in pandas and how is it different from pandas.series? Explain with an example.**"
   ]
  },
  {
   "cell_type": "markdown",
   "id": "7dcc8e79-53fd-4135-8ae0-22978c9f5562",
   "metadata": {},
   "source": [
    "In pandas DataFrame and series are fundamental data structures used for handeling and manipulating data.\n",
    "\n",
    "Following are the major difference between DataFrame and series in pandas:\n",
    "\n",
    "1. DataFrame is a two-dimensional labeled data structure, resembling a table or spreadsheet with rows and columns. Where as, series is a one-dimensional labeled array-like object, similar to a Python list or a NumPy array, but with associated index labels for each element.\n",
    "\n",
    "2. It is capable of holding data of different types in different columns. Where as, series can hold only one type of data as series is essentially a single column of a DataFrame.\n",
    "\n",
    "3. \"pd.DataFrame()\" is the built-in method in pandas that returns a DataFrame. Where as, \"pd.Series()\" is the built-in method in pandas that returns a series. Here \"pd\" is an alias for pandas.\n",
    "\n",
    "Below is an example for DataFrame and series in pandas:"
   ]
  },
  {
   "cell_type": "code",
   "execution_count": 5,
   "id": "4f93f5bb-46b4-474b-981d-821c46323363",
   "metadata": {},
   "outputs": [
    {
     "name": "stdout",
     "output_type": "stream",
     "text": [
      "Series:\n",
      "0    10\n",
      "1    20\n",
      "2    30\n",
      "3    40\n",
      "4    50\n",
      "dtype: int64\n",
      "Type of Series: <class 'pandas.core.series.Series'>\n",
      "\n",
      "DataFrame:\n",
      "   A  B  C\n",
      "0  1  4  7\n",
      "1  2  5  8\n",
      "2  3  6  9\n",
      "Type of DataFrame: <class 'pandas.core.frame.DataFrame'>\n"
     ]
    }
   ],
   "source": [
    "import pandas as pd\n",
    "\n",
    "# Creating a Series\n",
    "series_data = pd.Series([10, 20, 30, 40, 50])\n",
    "print(\"Series:\")\n",
    "print(series_data)\n",
    "print(\"Type of Series:\", type(series_data))\n",
    "\n",
    "# Creating a DataFrame\n",
    "data = {'A': [1, 2, 3],\n",
    "        'B': [4, 5, 6],\n",
    "        'C': [7, 8, 9]}\n",
    "\n",
    "df = pd.DataFrame(data)\n",
    "print(\"\\nDataFrame:\")\n",
    "print(df)\n",
    "print(\"Type of DataFrame:\", type(df))"
   ]
  },
  {
   "cell_type": "markdown",
   "id": "ba43a298-0c49-468e-a98e-e9f5a38e9f42",
   "metadata": {},
   "source": [
    "**Q5. What are some common functions you can use to manipulate data in a Pandas DataFrame? Can you give an example of when you might use one of these functions?**"
   ]
  },
  {
   "cell_type": "markdown",
   "id": "2d552747-7a96-4121-a548-60d4a8cb090e",
   "metadata": {},
   "source": [
    "Following are the common functions we can use to manipulate data in Pandas DataFreme:"
   ]
  },
  {
   "cell_type": "markdown",
   "id": "87f0b7eb-50da-402b-b054-80b9bdb3581e",
   "metadata": {},
   "source": [
    "**1. fillna()** : Used for handling Missing Values."
   ]
  },
  {
   "cell_type": "code",
   "execution_count": 6,
   "id": "ce3ebc1b-8f1f-43ca-9b04-b9e55893bb53",
   "metadata": {},
   "outputs": [
    {
     "name": "stdout",
     "output_type": "stream",
     "text": [
      "Original DataFrame:\n",
      "     A     B     C\n",
      "0  1.0   6.0   NaN\n",
      "1  2.0   NaN  12.0\n",
      "2  NaN   8.0  13.0\n",
      "3  4.0   NaN  14.0\n",
      "4  5.0  10.0  15.0\n",
      "\n",
      "DataFrame after filling missing values:\n",
      "     A     B     C\n",
      "0  1.0   6.0   0.0\n",
      "1  2.0   0.0  12.0\n",
      "2  0.0   8.0  13.0\n",
      "3  4.0   0.0  14.0\n",
      "4  5.0  10.0  15.0\n"
     ]
    }
   ],
   "source": [
    "import pandas as pd\n",
    "import numpy as np\n",
    "\n",
    "# Creating a DataFrame with missing values\n",
    "data = {'A': [1, 2, np.nan, 4, 5],\n",
    "        'B': [6, np.nan, 8, np.nan, 10],\n",
    "        'C': [np.nan, 12, 13, 14, 15]}\n",
    "df = pd.DataFrame(data)\n",
    "print(\"Original DataFrame:\")\n",
    "print(df)\n",
    "\n",
    "# Fill missing values with a specific value (e.g., 0)\n",
    "df_filled = df.fillna(0)\n",
    "print(\"\\nDataFrame after filling missing values:\")\n",
    "print(df_filled)"
   ]
  },
  {
   "cell_type": "markdown",
   "id": "4e2a57b4-97a5-4183-9fb5-861cd765e4d0",
   "metadata": {},
   "source": [
    "**2. groupby() and agg()** : Aggregation Operations."
   ]
  },
  {
   "cell_type": "code",
   "execution_count": 8,
   "id": "87b34c2e-9867-49ac-93b1-ec9b6d39d338",
   "metadata": {},
   "outputs": [
    {
     "name": "stdout",
     "output_type": "stream",
     "text": [
      "Original DataFrame:\n",
      "  Category  Value\n",
      "0        A     10\n",
      "1        B     20\n",
      "2        A     15\n",
      "3        B     25\n",
      "4        A     30\n",
      "\n",
      "Aggregated DataFrame:\n",
      "              Value    \n",
      "               mean sum\n",
      "Category               \n",
      "A         18.333333  55\n",
      "B         22.500000  45\n"
     ]
    }
   ],
   "source": [
    "# Grouping by 'Category' and calculating the mean and sum for 'Value' column\n",
    "data = {'Category': ['A', 'B', 'A', 'B', 'A'],\n",
    "        'Value': [10, 20, 15, 25, 30]}\n",
    "df = pd.DataFrame(data)\n",
    "print(\"Original DataFrame:\")\n",
    "print(df)\n",
    "\n",
    "# Grouping by 'Category' and calculating mean and sum for 'Value' column\n",
    "grouped = df.groupby('Category').agg({'Value': ['mean', 'sum']})\n",
    "print(\"\\nAggregated DataFrame:\")\n",
    "print(grouped)\n"
   ]
  },
  {
   "cell_type": "markdown",
   "id": "dd59c83e-26e6-4b91-9c99-1e8f6df1be63",
   "metadata": {},
   "source": [
    "**3. apply()** - Applying Functions."
   ]
  },
  {
   "cell_type": "code",
   "execution_count": 9,
   "id": "b89b75e7-1789-4efb-8117-2dcbaf24212e",
   "metadata": {},
   "outputs": [
    {
     "name": "stdout",
     "output_type": "stream",
     "text": [
      "Original DataFrame:\n",
      "   Numbers\n",
      "0        1\n",
      "1        2\n",
      "2        3\n",
      "3        4\n",
      "4        5\n",
      "\n",
      "DataFrame after applying custom function:\n",
      "   Numbers  Squared_Numbers\n",
      "0        1                1\n",
      "1        2                4\n",
      "2        3                9\n",
      "3        4               16\n",
      "4        5               25\n"
     ]
    }
   ],
   "source": [
    "# Applying a custom function to a column\n",
    "data = {'Numbers': [1, 2, 3, 4, 5]}\n",
    "df = pd.DataFrame(data)\n",
    "print(\"Original DataFrame:\")\n",
    "print(df)\n",
    "\n",
    "# Define a custom function to square the values\n",
    "def square(x):\n",
    "    return x ** 2\n",
    "\n",
    "# Applying the 'square' function to the 'Numbers' column and store the result in a new column 'Squared_Numbers'\n",
    "df['Squared_Numbers'] = df['Numbers'].apply(square)\n",
    "print(\"\\nDataFrame after applying custom function:\")\n",
    "print(df)\n"
   ]
  },
  {
   "cell_type": "markdown",
   "id": "044c5d83-cb66-406d-957e-97dc491fd1e6",
   "metadata": {},
   "source": [
    "**4. sort_values()** - Sorting Data."
   ]
  },
  {
   "cell_type": "code",
   "execution_count": 10,
   "id": "8e789f4e-ba4c-43fd-8660-938c936ad123",
   "metadata": {},
   "outputs": [
    {
     "name": "stdout",
     "output_type": "stream",
     "text": [
      "Original DataFrame:\n",
      "      Name  Age\n",
      "0    Alice   25\n",
      "1      Bob   20\n",
      "2  Charlie   30\n",
      "\n",
      "Sorted DataFrame based on 'Age':\n",
      "      Name  Age\n",
      "1      Bob   20\n",
      "0    Alice   25\n",
      "2  Charlie   30\n"
     ]
    }
   ],
   "source": [
    "# Sorting DataFrame based on values in 'Age' column\n",
    "data = {'Name': ['Alice', 'Bob', 'Charlie'],\n",
    "        'Age': [25, 20, 30]}\n",
    "df = pd.DataFrame(data)\n",
    "print(\"Original DataFrame:\")\n",
    "print(df)\n",
    "\n",
    "# Sorting the DataFrame based on the 'Age' column in ascending order\n",
    "sorted_df = df.sort_values(by='Age')\n",
    "print(\"\\nSorted DataFrame based on 'Age':\")\n",
    "print(sorted_df)"
   ]
  },
  {
   "cell_type": "markdown",
   "id": "83b8913a-55a9-470a-8823-7563d857ed19",
   "metadata": {},
   "source": [
    "**Q6. Which of the following is mutable in nature Series, DataFrame, Panel?**"
   ]
  },
  {
   "cell_type": "markdown",
   "id": "f0565bbb-5574-4637-b481-2778beb29f22",
   "metadata": {},
   "source": [
    "Series: A Pandas Series is mutable. We can change the values of elements, update the index, and perform various operations to modify the Series.\n",
    "\n",
    "DataFrame: Similar to a Pandas Series, a Pandas DataFrame is also mutable. We can add or remove columns, change column names, modify data within columns, add or delete rows, and perform a wide range of operations to alter the DataFrame.\n",
    "\n",
    "Panels were three-dimensional data structures and were mutable as well. But due to the decreased usage and the ability to represent such data using MultiIndex DataFrames, Panels have been deprecated."
   ]
  },
  {
   "cell_type": "markdown",
   "id": "2dbd711f-b329-42ce-ac5f-ca9bd889cff0",
   "metadata": {},
   "source": [
    "**Q7. Create a DataFrame using multiple Series. Explain with an example.**"
   ]
  },
  {
   "cell_type": "code",
   "execution_count": 21,
   "id": "4388af28-8609-4153-a326-ef807c50e39e",
   "metadata": {},
   "outputs": [
    {
     "name": "stdout",
     "output_type": "stream",
     "text": [
      "   number  square  cube\n",
      "0       1       1     1\n",
      "1       2       4     8\n",
      "2       3       9    27\n",
      "3       4      16    64\n",
      "4       5      25   125\n",
      "<class 'pandas.core.series.Series'>\n",
      "<class 'pandas.core.series.Series'>\n",
      "<class 'pandas.core.series.Series'>\n",
      "<class 'dict'>\n",
      "<class 'pandas.core.frame.DataFrame'>\n"
     ]
    }
   ],
   "source": [
    "import pandas as pd\n",
    "\n",
    "#Creating 3 series type variable\n",
    "s1=pd.Series([i for i in range(1,6)])\n",
    "s2=pd.Series([i**2 for i in range(1,6)])\n",
    "s3=pd.Series([i**3 for i in range(1,6)])\n",
    "\n",
    "#Creating a dictionary of the 3 series type data\n",
    "data={'number':s1, \n",
    "      'square':s2, \n",
    "      'cube':s3}\n",
    "\n",
    "#Creating the DataFrame using the Dictionary containing Series Type data \n",
    "df=pd.DataFrame(data)\n",
    "print(df)\n",
    "print(type(s1))\n",
    "print(type(s2))\n",
    "print(type(s2))\n",
    "print(type(data))\n",
    "print(type(df))"
   ]
  },
  {
   "cell_type": "code",
   "execution_count": null,
   "id": "faeee28a-0064-4259-8bc5-30c1b524ec81",
   "metadata": {},
   "outputs": [],
   "source": []
  }
 ],
 "metadata": {
  "kernelspec": {
   "display_name": "Python 3 (ipykernel)",
   "language": "python",
   "name": "python3"
  },
  "language_info": {
   "codemirror_mode": {
    "name": "ipython",
    "version": 3
   },
   "file_extension": ".py",
   "mimetype": "text/x-python",
   "name": "python",
   "nbconvert_exporter": "python",
   "pygments_lexer": "ipython3",
   "version": "3.10.8"
  }
 },
 "nbformat": 4,
 "nbformat_minor": 5
}
