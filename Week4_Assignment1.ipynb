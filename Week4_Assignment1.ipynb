{
 "cells": [
  {
   "cell_type": "markdown",
   "id": "c54da2c8-0d58-4564-825e-5de5904e40e0",
   "metadata": {},
   "source": [
    "Q1. Explain Class and Object with respect to Object-Oriented Programming. Give a suitable example."
   ]
  },
  {
   "cell_type": "markdown",
   "id": "e28f8cbc-19db-490e-9ed1-74ac671755a6",
   "metadata": {},
   "source": [
    "Classes are the means to bundel data and functions together. Classes are the blueprints of objects.\n",
    "Objects are the instances of a class in Object-Oriented Programming. For Ex:- we can treat animal as a class that contains data like animal_type, color and functions like speak, walk etc.\n",
    "Classes and Objects are the best Suitable Way to represent real life entities in the programming world."
   ]
  },
  {
   "cell_type": "code",
   "execution_count": 5,
   "id": "c4f39559-816e-4ab2-9761-5800db9a6f41",
   "metadata": {},
   "outputs": [
    {
     "name": "stdout",
     "output_type": "stream",
     "text": [
      "I am White color Cat.\n",
      "I am Black color Dog.\n"
     ]
    }
   ],
   "source": [
    "class Animal:\n",
    "    def __init__(self,animal_type,color):\n",
    "        self.animal_type=animal_type\n",
    "        self.color=color\n",
    "    \n",
    "    def speak(self):\n",
    "        print(\"I am speaking\")\n",
    "        \n",
    "    def walk(self):\n",
    "        print(\"I am Walking\")\n",
    "        \n",
    "    def details(self):\n",
    "        print(f\"I am {self.color} color {self.animal_type}.\")\n",
    "        \n",
    "Kitty=Animal(\"Cat\",\"White\") # Kitty is an object of Animal Class.\n",
    "Puppy=Animal(\"Dog\",\"Black\") # Puppy is an object of Animal Class.\n",
    "\n",
    "Kitty.details()\n",
    "Puppy.details()"
   ]
  },
  {
   "cell_type": "markdown",
   "id": "5ccc203a-a84b-4ed8-ae67-e8faf498cee1",
   "metadata": {},
   "source": [
    "Q2. Name the four pillars of OOPs."
   ]
  },
  {
   "cell_type": "markdown",
   "id": "226881d0-f248-4eb5-9778-12f6117800af",
   "metadata": {},
   "source": [
    "The four Pillar of OOPs are:\n",
    "1. Encapsulation: The data and related functions are bundled together and are wrapped inside a class. \n",
    "2. Abstraction: It refers to as hiding the underlying complexity of the code and showing the users only whatever is important for them.\n",
    "3. Inheritance: It is the method by which one class(sub-class or child-class) inherits the propertie and attributes of another class(super-class or parent class).\n",
    "4. Polymorphism: Polymorphism refers to something that can take multiple forms, polymorphism allows objects of different classes to be treated as objects of a common base class.\n"
   ]
  },
  {
   "cell_type": "markdown",
   "id": "9eb40c09-ba2d-4149-abf1-2552096044ac",
   "metadata": {},
   "source": [
    "Q3. Explain why the __init__() function is used. Give a suitable example."
   ]
  },
  {
   "cell_type": "markdown",
   "id": "6c7d3396-5552-4f24-be2c-ef34c8f43815",
   "metadata": {},
   "source": [
    "__init__() function acts as a constructor in Pyhon. __init__() is used to initialise the data members of the object when it is created. __init__() function is called as soon a an object is created. The first parameter of __init__() is the the reference(self) to the object that is being initialised."
   ]
  },
  {
   "cell_type": "code",
   "execution_count": 22,
   "id": "fb12441f-e320-49f2-b0e7-6c1c78f7fa6d",
   "metadata": {},
   "outputs": [
    {
     "name": "stdout",
     "output_type": "stream",
     "text": [
      "Anmol 5.9 Bangalore India\n"
     ]
    }
   ],
   "source": [
    "class person:\n",
    "    def __init__(self, name, height, city, country):\n",
    "        self.name=name\n",
    "        self.height=height\n",
    "        self.city=city\n",
    "        self.country=country\n",
    "        \n",
    "Anmol=person(\"Anmol\", 5.9, \"Bangalore\", \"India\")\n",
    "print(Anmol.name, Anmol.height, Anmol.city, Anmol.country)"
   ]
  },
  {
   "cell_type": "markdown",
   "id": "a4a42f7b-f28a-4e3a-9779-e6fd1a406d5a",
   "metadata": {},
   "source": [
    "Q4. Why self is used in OOPs?"
   ]
  },
  {
   "cell_type": "markdown",
   "id": "7e6d3ed0-1506-42a3-86dd-5f8f11f7408f",
   "metadata": {},
   "source": [
    "\"self\" acts as the reference to the instance of the class that is being initialised. It binds the attributes of the class to the arguements given during the initialisation of the object. It is compulsory to use \"self\" as the first parameter of the __init__() function or any other method. \"self\" enables us to access and modify the attributes and method of the object current being used.\n",
    "\"Self\" is not a reserved keyword in Python we can use anything in place of \"self\", It is just for the better readability and understandability of the code we use \"self\". "
   ]
  },
  {
   "cell_type": "code",
   "execution_count": 8,
   "id": "5e7a2ebd-75ba-474a-8a57-06d90c3d1b59",
   "metadata": {},
   "outputs": [
    {
     "name": "stdout",
     "output_type": "stream",
     "text": [
      "Fortuner SUV\n"
     ]
    }
   ],
   "source": [
    "class car:\n",
    "    def __init__(self, name, car_type): #Here we have used \"self\" to reprenent the current object being used\n",
    "        self.name=name\n",
    "        self.car_type=car_type\n",
    "        \n",
    "    def details(vehicle):  #Here we have used \"vehicle\" in palce of \"self\" to reprenent the current object being used\n",
    "        print(vehicle.name, vehicle.car_type)\n",
    "        \n",
    "Fortuner=car(\"Fortuner\", \"SUV\")\n",
    "Fortuner.details()"
   ]
  },
  {
   "cell_type": "markdown",
   "id": "34ba095a-5e19-4916-8ec6-ceaf4a5746ee",
   "metadata": {},
   "source": [
    "Q5. What is inheritance? Give an example for each type of inheritance."
   ]
  },
  {
   "cell_type": "markdown",
   "id": "ec434055-f246-49d2-9ca0-ca7ed8e5611e",
   "metadata": {},
   "source": [
    "Inheritance is a method by which one class(sub-class or child class) inherits the properties and attributes of another class(super-class or parent class).\n",
    "There are mainly five Types of interitance\n",
    "1. Single interitance\n",
    "2. Multiple interitance\n",
    "3. Multilevel interitance\n",
    "4. Hierarchical interitance\n",
    "5. Hybrid interitance\n"
   ]
  },
  {
   "cell_type": "code",
   "execution_count": 17,
   "id": "3e8812c4-8722-43ca-af8e-e3ef59354838",
   "metadata": {},
   "outputs": [
    {
     "name": "stdout",
     "output_type": "stream",
     "text": [
      "Tiger 4 German Shepherd\n"
     ]
    }
   ],
   "source": [
    "# 1. Single interitance\n",
    "\n",
    "class Animal:\n",
    "    def __init__(self, name, legs):\n",
    "        self.name=name\n",
    "        self.legs=legs\n",
    "        \n",
    "    def walk(self):\n",
    "        print(\"Walking\")\n",
    "        \n",
    "class Dog(Animal): #Dog class Inherits fron Animal class therefore Single Inheritance\n",
    "    def __init__(self, name, legs, breed):\n",
    "        self.breed=breed\n",
    "        Animal.__init__(self,name, legs)\n",
    "        \n",
    "Tiger=Dog(\"Tiger\", 4,\"German Shepherd\")\n",
    "print(Tiger.name, Tiger.legs, Tiger.breed)"
   ]
  },
  {
   "cell_type": "code",
   "execution_count": 23,
   "id": "482fbc94-a900-4cbf-b45c-aec29d0d3958",
   "metadata": {},
   "outputs": [
    {
     "name": "stdout",
     "output_type": "stream",
     "text": [
      "Anmol 5.9 Fair\n"
     ]
    }
   ],
   "source": [
    "# 2. Multiple Inheritance\n",
    "class Father:\n",
    "    def __init__(self, Height):\n",
    "        self.Height=Height\n",
    "        \n",
    "        \n",
    "class Mother:\n",
    "    def __init__(self, Color):\n",
    "        self.Color=Color\n",
    "       \n",
    "        \n",
    "class Son(Father, Mother): #son inherits from Father Class and Mother class therefore Multiple Inheritance\n",
    "    def __init__(self,name,Height,Color):\n",
    "        self.name=name\n",
    "        Father.__init__(self,Height)\n",
    "        Mother.__init__(self,Color)\n",
    "        \n",
    "Anmol=Son(\"Anmol\", 5.9,\"Fair\")\n",
    "print(Anmol.name, Anmol.Height, Anmol.Color)"
   ]
  },
  {
   "cell_type": "code",
   "execution_count": 19,
   "id": "87da1c1c-9beb-4397-a78a-27e796c31726",
   "metadata": {},
   "outputs": [
    {
     "name": "stdout",
     "output_type": "stream",
     "text": [
      "Tommy 4 German Shepherd 1\n"
     ]
    }
   ],
   "source": [
    "# 3. Multilevel interitance\n",
    "\n",
    "class Animal:\n",
    "    def __init__(self, name, legs):\n",
    "        self.name=name\n",
    "        self.legs=legs\n",
    "        \n",
    "    def walk(self):\n",
    "        print(\"Walking\")\n",
    "        \n",
    "class Dog(Animal):\n",
    "    def __init__(self, name, legs, breed):\n",
    "        self.breed=breed\n",
    "        Animal.__init__(self,name, legs)\n",
    "        \n",
    "class Puppy(Dog): #Puppy Inherits from Dog Class and Dog class Inherits fron Animal class therefore Multilevel Inheritance\n",
    "    def __init__(self,name,legs,breed,age):\n",
    "        self.age=age\n",
    "        Dog.__init__(self,name,legs,breed)\n",
    "        \n",
    "Tommy=Puppy(\"Tommy\", 4,\"German Shepherd\", 1)\n",
    "print(Tommy.name, Tommy.legs, Tommy.breed, Tommy.age)"
   ]
  },
  {
   "cell_type": "code",
   "execution_count": 31,
   "id": "1795b06f-99ea-479a-8254-278dcb70cb5a",
   "metadata": {},
   "outputs": [
    {
     "name": "stdout",
     "output_type": "stream",
     "text": [
      "Anmol Fair Male 5.9\n",
      "Madhu Fair Femle 5.9\n"
     ]
    }
   ],
   "source": [
    "# 4.Hierarchical Inheritance\n",
    "class Parents:\n",
    "    def __init__(self, Height,Color):\n",
    "        self.Height=Height\n",
    "        self.Color=Color\n",
    "        \n",
    "        \n",
    "class Daughter(Parents): \n",
    "    def __init__(self, Name, Gender, Height, Color):\n",
    "        self.Name=Name\n",
    "        self.Gender=Gender\n",
    "        Parents.__init__(self,Height,Color) \n",
    "       \n",
    "        \n",
    "class Son(Parents): #Daughter and Son both Inherits from Parent class therefore Hierarchical Inheritance.\n",
    "    def __init__(self, Name, Gender, Height, Color):\n",
    "        self.Name=Name\n",
    "        self.Gender=Gender\n",
    "        Parents.__init__(self,Height,Color)\n",
    "        \n",
    "Anmol=Son(\"Anmol\", 5.9, \"Fair\", \"Male\")\n",
    "print(Anmol.Name, Anmol.Height, Anmol.Color, Anmol.Gender)\n",
    "          \n",
    "Madhu=Daughter(\"Madhu\", 5.9, \"Fair\", \"Femle\")\n",
    "print(Madhu.Name, Madhu.Height, Madhu.Color, Madhu.Gender)"
   ]
  },
  {
   "cell_type": "code",
   "execution_count": 32,
   "id": "c52579fa-4ead-4bc9-baab-de8706f57dc4",
   "metadata": {},
   "outputs": [
    {
     "name": "stdout",
     "output_type": "stream",
     "text": [
      "Anmol 101 anmo65438@gmail.com Python Male\n"
     ]
    }
   ],
   "source": [
    "#5. Hybrid Inheritance\n",
    "\n",
    "class Person:\n",
    "    def __init__(self, name):\n",
    "        self.name=name\n",
    "    \n",
    "class Employee(Person):\n",
    "    def __init__(self, emp_id, email, name):\n",
    "        self.emp_id=emp_id\n",
    "        self.email=email\n",
    "        Person.__init__(self,name)\n",
    "        \n",
    "class male:\n",
    "    def __init__(self):\n",
    "        self.Gender=\"Male\"\n",
    "        \n",
    "class Programmer(Employee,male): # Programmer inherits from Emplayee and male class(Multiple Inheritance), Employee class inherits from Person(Single Inheritance) therefore it is Hybrid Inheritance\n",
    "    def __init__(self, name, emp_id, email, language):\n",
    "        self.language=language\n",
    "        Employee.__init__(self,emp_id, email, name)\n",
    "        male.__init__(self)\n",
    "        \n",
    "Anmol=Programmer(\"Anmol\", 101, \"anmo65438@gmail.com\", \"Python\")\n",
    "print(Anmol.name, Anmol.emp_id, Anmol.email, Anmol.language, Anmol.Gender)\n",
    "    "
   ]
  },
  {
   "cell_type": "code",
   "execution_count": null,
   "id": "48755999-06ae-4b38-b501-95acc85e6d0e",
   "metadata": {},
   "outputs": [],
   "source": []
  }
 ],
 "metadata": {
  "kernelspec": {
   "display_name": "Python 3 (ipykernel)",
   "language": "python",
   "name": "python3"
  },
  "language_info": {
   "codemirror_mode": {
    "name": "ipython",
    "version": 3
   },
   "file_extension": ".py",
   "mimetype": "text/x-python",
   "name": "python",
   "nbconvert_exporter": "python",
   "pygments_lexer": "ipython3",
   "version": "3.10.8"
  }
 },
 "nbformat": 4,
 "nbformat_minor": 5
}
