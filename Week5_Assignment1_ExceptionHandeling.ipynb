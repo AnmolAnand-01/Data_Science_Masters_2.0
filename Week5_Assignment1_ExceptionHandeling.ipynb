{
 "cells": [
  {
   "cell_type": "markdown",
   "id": "4991c4d9-00ec-499e-8457-d5808f7261c7",
   "metadata": {},
   "source": [
    "Q1. What is an Exception in python? Write the difference between Exceptions and syntax errors."
   ]
  },
  {
   "cell_type": "markdown",
   "id": "5e89274b-d5e0-45ff-b12c-785a7d57f07f",
   "metadata": {},
   "source": [
    "An Exception is a class in Python that represents Error. If an exception is raised during the execution of a program it disturbs the normal flow of the program or even can stop the execution of the program.\n",
    "Exception class in Python is inherited by all other inbuilt exceptions, whereas syntax error is a child class that inherits the Exception class.\n",
    "Exception class represents all type of inbuilt errors that can occur during the execution of a Python program, Whereas the syntax error only represents the errors caused due to invaid or wrong syntax."
   ]
  },
  {
   "cell_type": "markdown",
   "id": "344cbc5d-cf2c-4f8d-ba65-53c0483f51ac",
   "metadata": {},
   "source": [
    "Q2. What happens when an exception is not handled? Explain with an example."
   ]
  },
  {
   "cell_type": "markdown",
   "id": "9bfeec8a-94fb-4b4f-90c2-c99e228b8f53",
   "metadata": {},
   "source": [
    "If an exception is not handled it will disturb the normal flow of the program giving an undesired output or even can stop the execution of the program."
   ]
  },
  {
   "cell_type": "code",
   "execution_count": 4,
   "id": "f9935444-bf23-4ff2-8d2e-ec58462207f9",
   "metadata": {},
   "outputs": [
    {
     "ename": "TypeError",
     "evalue": "unsupported operand type(s) for +=: 'int' and 'str'",
     "output_type": "error",
     "traceback": [
      "\u001b[0;31m---------------------------------------------------------------------------\u001b[0m",
      "\u001b[0;31mTypeError\u001b[0m                                 Traceback (most recent call last)",
      "Cell \u001b[0;32mIn[4], line 7\u001b[0m\n\u001b[1;32m      4\u001b[0m lst\u001b[38;5;241m=\u001b[39m[\u001b[38;5;241m1\u001b[39m,\u001b[38;5;241m90\u001b[39m,\u001b[38;5;241m49\u001b[39m,\u001b[38;5;241m78\u001b[39m,\u001b[38;5;241m76\u001b[39m,\u001b[38;5;124m\"\u001b[39m\u001b[38;5;124mAnmol\u001b[39m\u001b[38;5;124m\"\u001b[39m,\u001b[38;5;241m90\u001b[39m]\n\u001b[1;32m      6\u001b[0m \u001b[38;5;28;01mfor\u001b[39;00m i \u001b[38;5;129;01min\u001b[39;00m lst:\n\u001b[0;32m----> 7\u001b[0m     Sum\u001b[38;5;241m+\u001b[39m\u001b[38;5;241m=\u001b[39mi\n\u001b[1;32m      9\u001b[0m \u001b[38;5;28mprint\u001b[39m(Sum)\n",
      "\u001b[0;31mTypeError\u001b[0m: unsupported operand type(s) for +=: 'int' and 'str'"
     ]
    }
   ],
   "source": [
    "#Example where execution was stopped\n",
    "Sum=0\n",
    "\n",
    "lst=[1,90,49,78,76,\"Anmol\",90]\n",
    "\n",
    "for i in lst:\n",
    "    Sum+=i\n",
    "\n",
    "print(Sum)\n",
    "\n",
    "\"\"\" Here the desired output was sum of all the numbers in the list but since there is a \"string\" in the list interpreter \n",
    "throws an error that is \"TypeError\" saying that the int and str cant be added, due to which execution of the program was \n",
    "stopped and the result was not displayed. The situation where List item is a string could have been handeled by \"Exception Handeling\"\"\"\""
   ]
  },
  {
   "cell_type": "code",
   "execution_count": 8,
   "id": "3ac22e19-5f0a-4032-83ea-e1cf156836a7",
   "metadata": {},
   "outputs": [
    {
     "name": "stdout",
     "output_type": "stream",
     "text": [
      "80.0\n",
      "-80.0\n"
     ]
    },
    {
     "data": {
      "text/plain": [
       "'In the function \"interest_amount\" if we pass a positive value the the result is correct but if we pass a negative value \\nthen also the interest amount is returned which is wrong as the Loan_amount cannot be negative in any condition this gives an\\nundesired result. The situation where Loan_amount entered is negative could have been handeled by \"Exception Handeling\" '"
      ]
     },
     "execution_count": 8,
     "metadata": {},
     "output_type": "execute_result"
    }
   ],
   "source": [
    "# Example where result was undesired\n",
    "\n",
    "# function to calculate the interest to be paid to the bank for Loan_amount at 8% interest rate for 1 year\n",
    "def interest_amount(Loan_amount): \n",
    "    interest=(Loan_amount*8*1)/100\n",
    "    return interest\n",
    "\n",
    "print(interest_amount(1000))\n",
    "\n",
    "print(interest_amount(-1000))\n",
    "\n",
    "\"\"\"In the function \"interest_amount\" if we pass a positive value the the result is correct but if we pass a negative value \n",
    "then also the interest amount is returned which is wrong as the Loan_amount cannot be negative in any condition this gives an\n",
    "undesired result. The situation where Loan_amount entered is negative could have been handeled by \"Exception Handeling\" \"\"\""
   ]
  },
  {
   "cell_type": "markdown",
   "id": "2602b9eb-15a1-4055-8f8e-66b874f6466f",
   "metadata": {},
   "source": [
    "Q3. Which Python statements are used to catch and handle exceptions? Explain with an example."
   ]
  },
  {
   "cell_type": "markdown",
   "id": "c18e32b3-30ca-4144-bed4-e71f303cc617",
   "metadata": {},
   "source": [
    "There are two main and two optional statements in Python that are used to catch and handle ecxeptions. They are:-\n",
    "1. try:- That part of code that is expected to produce certain error or exception is written in this block, if there is some error control will shift from try block to the \"except\" block.\n",
    "2. except:- The action to be taken in case of an Error is written in this block.\n",
    "3. else(optional):- It is an optional block that will execute only if no error is thrown by the try block.\n",
    "4. finally(optional):- Anything that is written in this block will always be executed whether an error is thrown or not by the try block."
   ]
  },
  {
   "cell_type": "code",
   "execution_count": 14,
   "id": "f406ca6a-6433-488b-9d52-9022f5426d95",
   "metadata": {},
   "outputs": [
    {
     "name": "stdout",
     "output_type": "stream",
     "text": [
      "3\n",
      "No Error!!\n",
      "I will always execute\n",
      "\n",
      "\n",
      "Index greater than size of list list index out of range\n",
      "I will always execute\n"
     ]
    }
   ],
   "source": [
    "def print_element(index):    \n",
    "    try:\n",
    "\n",
    "        lst=[1,2,3,4,5,6]\n",
    "        element=lst[index]\n",
    "        print(element) # the last index of the list 'lst' is 5 and if we try to acces index greater than 5 then it will throw an exception(IndexError)\n",
    "    except IndexError as e:\n",
    "        print(\"Index greater than size of list\", e)\n",
    "    else:\n",
    "        print(\"No Error!!\")\n",
    "    finally:\n",
    "        print(\"I will always execute\")\n",
    "    \n",
    "print_element(2) #No error will be thrown by try block, 'else' and 'finally' block will be executed\n",
    "\n",
    "print('\\n')\n",
    "\n",
    "print_element(7)#IndexError error will be thrown by try block, 'except' and 'finally' block will be executed"
   ]
  },
  {
   "cell_type": "markdown",
   "id": "e5d630eb-ddeb-4bb4-8614-0e4a099745f2",
   "metadata": {},
   "source": [
    "Q4. Explain with an example:\n",
    "\n",
    "a. try and else\n",
    "b. finally\n",
    "c. raise"
   ]
  },
  {
   "cell_type": "markdown",
   "id": "f958341c-f356-4828-a323-a28a08f656d3",
   "metadata": {},
   "source": [
    "a. try and else\n",
    "try:- That part of code that is expected to produce certain error or exception is written in this block. Try block cannot be alone there must be an 'except' block following the 'try' block.\n",
    "else:- If the try block completes it's execution without throwing an error then only this 'else' block will execute.\n",
    "Only one among the 'except' and the 'else' block will execute."
   ]
  },
  {
   "cell_type": "code",
   "execution_count": 19,
   "id": "de81061f-8616-492a-ac6d-c0183b9eeb15",
   "metadata": {},
   "outputs": [
    {
     "name": "stdout",
     "output_type": "stream",
     "text": [
      "Result: 21\n",
      "\n",
      "\n",
      "Error thrown by try block: unsupported operand type(s) for +=: 'int' and 'str'\n"
     ]
    }
   ],
   "source": [
    "def summation(lst):\n",
    "    res=0\n",
    "    try:\n",
    "        for i in lst:\n",
    "            res+=i\n",
    "    except TypeError as e:\n",
    "        print(\"Error thrown by try block:\", e)\n",
    "    else:\n",
    "        print(\"Result:\", res)\n",
    "        \n",
    "lst1=[1,2,3,4,5,6]\n",
    "summation(lst1)\n",
    "\n",
    "print('\\n')\n",
    "\n",
    "lst2=[1,2,3,'Anmol']\n",
    "summation(lst2)"
   ]
  },
  {
   "cell_type": "markdown",
   "id": "c0e6b5eb-b51b-4f2c-9ecc-7f069e2ca65f",
   "metadata": {},
   "source": [
    "b. finally\n",
    "Anything that is written in this block will always be executed whether an error is thrown or not by the try block."
   ]
  },
  {
   "cell_type": "code",
   "execution_count": 22,
   "id": "0821edb9-d6cd-41e3-9003-447cf9e03595",
   "metadata": {},
   "outputs": [
    {
     "name": "stdout",
     "output_type": "stream",
     "text": [
      "Result: [1, 4, 9, 16, 25]\n",
      "List used is: [1, 2, 3, 4, 5]\n",
      "\n",
      "\n",
      "Error Thrown by try block: unsupported operand type(s) for ** or pow(): 'str' and 'int'\n",
      "List used is: [1, 2, 3, 4, 'Anmol']\n"
     ]
    }
   ],
   "source": [
    "def square(lst):\n",
    "    res=[]\n",
    "    try:\n",
    "        res=[i**2 for i in lst]\n",
    "    except TypeError as e:\n",
    "        print(\"Error Thrown by try block:\", e)\n",
    "    else:\n",
    "        print(\"Result:\", res)\n",
    "    finally:\n",
    "        print(\"List used is:\", lst)\n",
    "       \n",
    "list1=[1,2,3,4,5]\n",
    "square(list1)\n",
    "\n",
    "print('\\n')\n",
    "\n",
    "list2=[1,2,3,4,\"Anmol\"]\n",
    "square(list2)"
   ]
  },
  {
   "cell_type": "markdown",
   "id": "644914df-fee0-47fc-96d1-e057ef9170ba",
   "metadata": {},
   "source": [
    "c. raise\n",
    "\"raise\" keyword is used to generate a custom exception"
   ]
  },
  {
   "cell_type": "code",
   "execution_count": null,
   "id": "6912c285-1ab0-4321-b5af-c767fd93929f",
   "metadata": {},
   "outputs": [],
   "source": [
    "class validate_int(Exception):\n",
    "    def __init__(self, msg):\n",
    "        print(msg)\n",
    "        \n",
    "\n",
    "def check_int(lst):\n",
    "    try:\n",
    "        for i in lst:\n",
    "            if type(i) != int:\n",
    "                raise validate_int(\"The list data is not an integer\")\n",
    "    except Exception as e:\n",
    "        print(\"Error thrown:\", e)\n",
    "    else:\n",
    "        print(\"List contains all integers\")\n",
    "    finally:\n",
    "        print(\"List used:\", lst)\n",
    "        \n",
    "list1=[1,2,3,4,5]\n",
    "check_int(list1)\n",
    "\n",
    "print('\\n')\n",
    "\n",
    "list2=[1,2,3,4,\"Anmol\"]\n",
    "check_int(list2)"
   ]
  },
  {
   "cell_type": "markdown",
   "id": "73239645-0bc0-4bea-87ff-6d1cfac0bbda",
   "metadata": {},
   "source": [
    "Q5. What are Custom Exceptions in python? Why do we need Custom Exceptions? Explain with an example."
   ]
  },
  {
   "cell_type": "markdown",
   "id": "8110d811-2f94-4bca-95f9-96c089f358f7",
   "metadata": {},
   "source": [
    "In Python Custom Exceptions can be created by creating a Custom Exception class that inherits \"Exception\" class.\n",
    "Our code might look syntactically correct but there might be some cases where we intentionally want some part of our code to raise exception in some cases for example, age entered by the user is negative or very high, then it is important to raise an exception that the age entered is not correct."
   ]
  },
  {
   "cell_type": "code",
   "execution_count": 19,
   "id": "9b6890b7-377c-47b5-be2d-bb5c60003eca",
   "metadata": {},
   "outputs": [
    {
     "name": "stdout",
     "output_type": "stream",
     "text": [
      "Error found!! age cannot be 0 or negative\n",
      "age being checked is: -19\n",
      "\n",
      "\n",
      "age is valid\n",
      "age being checked is: 18\n",
      "\n",
      "\n",
      "Error found!! age is high\n",
      "age being checked is: 108\n"
     ]
    }
   ],
   "source": [
    "class validateage(Exception):\n",
    "    def __iinit__(self,msg):\n",
    "        self.msg=msg\n",
    "\n",
    "def validate_age(age):\n",
    "    try:\n",
    "        if age<=0:\n",
    "            raise validateage(\"age cannot be 0 or negative\")\n",
    "        elif age>100:\n",
    "            raise validateage(\"age is high\")\n",
    "    except validateage as e:\n",
    "        print(\"Error found!!\", e)\n",
    "    else:\n",
    "        print(\"age is valid\")\n",
    "    finally:\n",
    "        print(\"age being checked is:\", age)\n",
    "        \n",
    "validate_age(-19)\n",
    "\n",
    "print('\\n')\n",
    "\n",
    "validate_age(18)\n",
    "\n",
    "print('\\n')\n",
    "\n",
    "validate_age(108)"
   ]
  },
  {
   "cell_type": "markdown",
   "id": "33ca6a8d-c1b7-4869-93f6-f7788fc86231",
   "metadata": {},
   "source": [
    "Q6. Create a custom exception class. Use this class to handle an exception."
   ]
  },
  {
   "cell_type": "code",
   "execution_count": 20,
   "id": "8eea790f-a640-4f2d-be75-3f1280e8e4e0",
   "metadata": {},
   "outputs": [
    {
     "name": "stdout",
     "output_type": "stream",
     "text": [
      "Valid Month Entered\n",
      "Month entered is: 10\n",
      "\n",
      "\n",
      "Error: Invalid Month Entered!!\n",
      "Month entered is: -1\n",
      "\n",
      "\n",
      "Error: Invalid Month Entered!!\n",
      "Month entered is: 16\n"
     ]
    }
   ],
   "source": [
    "class ValidateMonth(Exception):\n",
    "    def __init__(self,msg):\n",
    "        self.msg=msg\n",
    "        \n",
    "def Validate_Month(Month):\n",
    "    try:\n",
    "        if Month>12 or Month<0:\n",
    "            raise ValidateMonth(\"Invalid Month Entered!!\")\n",
    "    except ValidateMonth as e:\n",
    "        print(\"Error:\", e)\n",
    "    else:\n",
    "        print(\"Valid Month Entered\")\n",
    "    finally:\n",
    "        print(\"Month entered is:\", Month)\n",
    "        \n",
    "Validate_Month(10)\n",
    "\n",
    "print('\\n')\n",
    "\n",
    "Validate_Month(-1)\n",
    "\n",
    "print('\\n')\n",
    "\n",
    "Validate_Month(16)"
   ]
  },
  {
   "cell_type": "code",
   "execution_count": null,
   "id": "80f6a93f-cfbc-44ac-90c5-113868451535",
   "metadata": {},
   "outputs": [],
   "source": []
  }
 ],
 "metadata": {
  "kernelspec": {
   "display_name": "Python 3 (ipykernel)",
   "language": "python",
   "name": "python3"
  },
  "language_info": {
   "codemirror_mode": {
    "name": "ipython",
    "version": 3
   },
   "file_extension": ".py",
   "mimetype": "text/x-python",
   "name": "python",
   "nbconvert_exporter": "python",
   "pygments_lexer": "ipython3",
   "version": "3.10.8"
  }
 },
 "nbformat": 4,
 "nbformat_minor": 5
}
