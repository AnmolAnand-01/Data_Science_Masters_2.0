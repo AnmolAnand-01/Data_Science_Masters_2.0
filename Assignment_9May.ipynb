{
 "cells": [
  {
   "cell_type": "markdown",
   "id": "a11f5eb5-0865-4f93-a22b-ba2006820a5f",
   "metadata": {},
   "source": [
    "Q1. Create one variable containing following type of data:\n",
    "(i) string\n",
    "(ii) list\n",
    "(iii) float\n",
    "(iv) tuple"
   ]
  },
  {
   "cell_type": "code",
   "execution_count": 8,
   "id": "39d95e78-68d2-4daf-99ef-503a208adad4",
   "metadata": {},
   "outputs": [
    {
     "data": {
      "text/plain": [
       "str"
      ]
     },
     "execution_count": 16,
     "metadata": {},
     "output_type": "execute_result"
    }
   ],
   "source": [
    "# string variable\n",
    "st = \"Anmol\"\n",
    "# List variable\n",
    "li = [1,2,3,4,5,\"Anand\",3.14]\n",
    "# float variable\n",
    "fl = 3.1459\n",
    "#tuple variable\n",
    "tu = (6,7,8,9,\"Singh\",8.10)"
   ]
  },
  {
   "cell_type": "markdown",
   "id": "7ac67183-0081-4af9-951c-3de34ff66f57",
   "metadata": {},
   "source": [
    "Q2. Given are some following variables containing data:\n",
    "(i) var1 = ‘ ‘\n",
    "(ii) var2 = ‘[ DS , ML , Python]’\n",
    "(iii) var3 = [ ‘DS’ , ’ML’ , ‘Python’ ]\n",
    "(iv) var4 = 1.\n",
    "What will be the data type of the above given variable."
   ]
  },
  {
   "cell_type": "markdown",
   "id": "def8ab91-ef22-4229-8523-2a87bd2efe87",
   "metadata": {},
   "source": [
    "(i) var1 is \"Empty String\".\n",
    "(ii) var2 is \"String\".\n",
    "(iii) var3 is \"List\".\n",
    "(iv) var4 is \"Float\"."
   ]
  },
  {
   "cell_type": "markdown",
   "id": "820495da-efeb-45d9-aec3-792c3b894089",
   "metadata": {},
   "source": [
    "Q3. Explain the use of the following operators using an example:\n",
    "(i) /\n",
    "(ii) %\n",
    "(iii) //\n",
    "(iv) **"
   ]
  },
  {
   "cell_type": "markdown",
   "id": "a5c0d240-cd1d-473a-8f8e-fca7e87b45f3",
   "metadata": {},
   "source": [
    "(i) / gives the quotient of a division. Output is Float. \n",
    "(ii) % gives the remainder of a division. Output is Integer.\n",
    "(iii) // gives the floor value of the quotient of a division. Output is Integer.\n",
    "(iv) ** is the exponentiation opperator. Eg:- 2**3=8."
   ]
  },
  {
   "cell_type": "markdown",
   "id": "9453937d-337c-4112-afdf-c158bb490742",
   "metadata": {},
   "source": [
    "Q4. Create a list of length 10 of your choice containing multiple types of data. Using for loop print the\n",
    "element and its data type."
   ]
  },
  {
   "cell_type": "code",
   "execution_count": 18,
   "id": "1e32fc4f-3067-4e58-b730-d6c370bc2340",
   "metadata": {},
   "outputs": [
    {
     "name": "stdout",
     "output_type": "stream",
     "text": [
      "1 <class 'int'>\n",
      "2 <class 'int'>\n",
      "3 <class 'int'>\n",
      "4 <class 'int'>\n",
      "Pw <class 'str'>\n",
      "Data <class 'str'>\n",
      "1.45 <class 'float'>\n",
      "7.87 <class 'float'>\n",
      "[1.0, 90, 87, 65] <class 'list'>\n",
      "(2.8, 'Anmol', 67, 98, 76, 54) <class 'tuple'>\n"
     ]
    }
   ],
   "source": [
    "li=[1,2,3,4,\"Pw\",\"Data\",1.45,7.87,[1.0,90,87,65],(2.8,\"Anmol\",67,98,76,54)]\n",
    "for i in li:\n",
    "    print(i, type(i))"
   ]
  },
  {
   "cell_type": "markdown",
   "id": "16b5c173-9cef-4a07-b13e-d11060105016",
   "metadata": {},
   "source": [
    "Q5. Using a while loop, verify if the number A is purely divisible by number B and if so then how many\n",
    "times it can be divisible."
   ]
  },
  {
   "cell_type": "code",
   "execution_count": 22,
   "id": "f597b6a3-d93f-453e-b990-6c23b6614410",
   "metadata": {},
   "outputs": [
    {
     "name": "stdin",
     "output_type": "stream",
     "text": [
      " 24\n",
      " 2\n"
     ]
    },
    {
     "name": "stdout",
     "output_type": "stream",
     "text": [
      "3\n"
     ]
    }
   ],
   "source": [
    "A=int(input())\n",
    "B=int(input())\n",
    "count=0\n",
    "while(A%B==0):\n",
    "    A/=B\n",
    "    count+=1\n",
    "print(count)"
   ]
  },
  {
   "cell_type": "markdown",
   "id": "6a2cfe0e-85ff-425b-a0bf-8230f1c2ade9",
   "metadata": {},
   "source": [
    "Q6. Create a list containing 25 int type data. Using for loop and if-else condition print if the element is\n",
    "divisible by 3 or not."
   ]
  },
  {
   "cell_type": "code",
   "execution_count": 24,
   "id": "d09b594b-036b-48b1-8d86-3a5962fb27cd",
   "metadata": {},
   "outputs": [
    {
     "name": "stdout",
     "output_type": "stream",
     "text": [
      "1  is not divisible by 3\n",
      "2  is not divisible by 3\n",
      "3  is divisible by 3\n",
      "4  is not divisible by 3\n",
      "5  is not divisible by 3\n",
      "6  is divisible by 3\n",
      "7  is not divisible by 3\n",
      "8  is not divisible by 3\n",
      "9  is divisible by 3\n",
      "10  is not divisible by 3\n",
      "11  is not divisible by 3\n",
      "12  is divisible by 3\n",
      "13  is not divisible by 3\n",
      "14  is not divisible by 3\n",
      "15  is divisible by 3\n",
      "16  is not divisible by 3\n",
      "17  is not divisible by 3\n",
      "18  is divisible by 3\n",
      "19  is not divisible by 3\n",
      "20  is not divisible by 3\n",
      "21  is divisible by 3\n",
      "22  is not divisible by 3\n",
      "23  is not divisible by 3\n",
      "24  is divisible by 3\n",
      "25  is not divisible by 3\n"
     ]
    }
   ],
   "source": [
    "li = list(range(1,26))\n",
    "for i in li:\n",
    "    if(i%3==0):\n",
    "        print(i, \" is divisible by 3\")\n",
    "    else:\n",
    "        print(i, \" is not divisible by 3\")"
   ]
  },
  {
   "cell_type": "markdown",
   "id": "5ce8498d-161e-4146-ba04-503b2bd7fa04",
   "metadata": {},
   "source": [
    "Q7. What do you understand about mutable and immutable data types? Give examples for both showing\n",
    "this property."
   ]
  },
  {
   "cell_type": "code",
   "execution_count": 26,
   "id": "9ef18915-8820-4554-a47d-7a0b43b39442",
   "metadata": {},
   "outputs": [
    {
     "name": "stdout",
     "output_type": "stream",
     "text": [
      "[1, 2, 3, 4, 5]\n",
      "140184542068032\n",
      "[90, 2, 3, 4, 5]\n",
      "140184542068032\n",
      "10\n",
      "140185024987664\n",
      "12\n",
      "140185024987728\n"
     ]
    }
   ],
   "source": [
    "#If a already defined variable can be modified then it is called \"mutable\". Ex:- List, Dictionary , Set.\n",
    "#If a already defined variable can not be modified then it is called \"immutable\". Ex:- Numbers, String, Tuples.\n",
    "\n",
    "#mutable Property\n",
    "li=[1,2,3,4,5]\n",
    "print(li)\n",
    "print(id(li))\n",
    "\n",
    "li[0]=90\n",
    "print(li)\n",
    "print(id(li)) # Since Id of the variable before and modification of the variable is same therefore List shows the mutabile property.\n",
    "\n",
    "#Immutable Property\n",
    "num=10\n",
    "print(num)\n",
    "print(id(num))\n",
    "\n",
    "num+=2\n",
    "print(num)\n",
    "print(id(num)) # Since Id of the variable before and modification of the variable are different therefore Number shows the immutabile property."
   ]
  },
  {
   "cell_type": "code",
   "execution_count": null,
   "id": "91a5f051-2db2-41db-8cce-8b4eee16d78b",
   "metadata": {},
   "outputs": [],
   "source": []
  }
 ],
 "metadata": {
  "kernelspec": {
   "display_name": "Python 3 (ipykernel)",
   "language": "python",
   "name": "python3"
  },
  "language_info": {
   "codemirror_mode": {
    "name": "ipython",
    "version": 3
   },
   "file_extension": ".py",
   "mimetype": "text/x-python",
   "name": "python",
   "nbconvert_exporter": "python",
   "pygments_lexer": "ipython3",
   "version": "3.10.8"
  }
 },
 "nbformat": 4,
 "nbformat_minor": 5
}
