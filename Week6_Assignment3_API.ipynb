{
 "cells": [
  {
   "cell_type": "markdown",
   "id": "4c1c8288-318d-485f-b07d-45d60a3cee62",
   "metadata": {},
   "source": [
    "Q1. What is an API? Give an example, where an API is used in real life."
   ]
  },
  {
   "cell_type": "markdown",
   "id": "09d35b50-1584-4d3d-96f1-eec6e908a44e",
   "metadata": {},
   "source": [
    "API stands for \"Application Programming Interface\". API is a set of rules and protocols that allows different applications to communicate with each other. Two applications written in different or same programming language or frameworks can easily interact with each other to exchange information using an API.\n",
    "Almost all the applications that we use in our day to day life use API in someway. For ex:- Weather applications that we use, needs our location or any other location that we want to search for, these locations are sent to the server through an API, and the server gives us the required weather information. "
   ]
  },
  {
   "cell_type": "markdown",
   "id": "e079ba47-01da-4fba-9b9d-81127b3ff497",
   "metadata": {},
   "source": [
    "Q2. Give advantages and disadvantages of using API."
   ]
  },
  {
   "cell_type": "markdown",
   "id": "ae5fab87-2e5d-45c3-902a-7623de926a94",
   "metadata": {},
   "source": [
    "Advantages:-\n",
    "1. API allows different softwares to communicate and work together even if they are built on different platforms and technologies.\n",
    "2. API allows code reusability by allowing the developers to design the application in small components and then integrating them through API.\n",
    "3. API allows us to integrate various third-party functionalities to our application by using the API provided by these third party service providers.\n",
    "4. API allows applications to scale by delegating specific tasks to external services\n",
    "\n",
    "Disadvantages:-\n",
    "1. While using third-party APIs, we are dependent on availability and reliability of external services. If API provides's server experiences downtime then this might impact our Application.\n",
    "2. APIs can be vulnerable to security risks if not implemented or used properly.\n",
    "3. While using APIs we have limited control over the underlying functionalities.\n",
    "4. External API requests can introduce latency that can impact our application's performance, especially if the server is situated at a very remote area."
   ]
  },
  {
   "cell_type": "markdown",
   "id": "9fae1cc5-4432-4562-84e2-d68da0893f3b",
   "metadata": {},
   "source": [
    "Q3. What is a Web API? Differentiate between API and Web API."
   ]
  },
  {
   "cell_type": "markdown",
   "id": "c2347ebc-875e-4d2a-a438-2ba79c0fd4a7",
   "metadata": {},
   "source": [
    "Web API or Web Application Programming Interface is a type of API that specifically allows communication and data exchange over the internet through web protocols such as HTTP. They are subsets of APIs and typically follows a set of conventions and standards inclucing RSET(Representational State Transfer) or SOAP(Simplified Object Access Protocol).\n",
    "Difference between API and Web API:-\n",
    "1. API is a broader concept that can consist of any set of rules or protocols that allows applications to interact with each other regardless of the communication medium or thetechnology used, where as Web API refers to the API that operates over the web primerly using the HTTP or web-based protocols.\n",
    "2. APIs can be used in various environments, including Local APIs, network APIs, Web API, they are not limited to web based communications. Where as Web APIs are exclusive to web based communicatins and operate over the internet.\n",
    "3. APIs can use a wide range of protocols, where as Web APIs specially use web based protocols such as HTTP. \n",
    "4. APIs can be designed for bothlocal and remote communication, where as Web API are specially designed for remote communication over the internet."
   ]
  },
  {
   "cell_type": "markdown",
   "id": "9c3125be-aae6-420d-9df3-be0864b71c49",
   "metadata": {},
   "source": [
    "Q4. Explain REST and SOAP Architecture. Mention shortcomings of SOAP."
   ]
  },
  {
   "cell_type": "markdown",
   "id": "347a1d8c-7ff3-4586-8529-105c318e5a8e",
   "metadata": {},
   "source": [
    "REST stands for Representational State Transfer. REST is an architectural style for designing network application. It's not a protocol like SOAP but rather a set of principles that define how resources should be accesed and manipulated over the internet.\n",
    "SOAP stands for Structural Object Access Protocol. SOAP is a protocol for exchanging structured information in the implementation of web services. Unlike REST which is architectural style, SOAP is a protocol with strict set of rules for message format and communication.\n",
    "\n",
    "Sortcomings of SOAP architecture:-\n",
    "1. SOAP messages are typically complex and heavyweight as compared to their REST counterpart primarly due to the XML structure.\n",
    "2. The XML format of SOAP messages is human redable that can be advantageous for debugging but results in large payloads, consuming more Bandwidth and server resources.\n",
    "3. Developing and maintaining SOAP-based services require specialized tools and liberaries that can be cumbersome for some developers.\n",
    "4. SOAP architecture does not enforces statelessness, but it often require additional efforts to maintain the states across multiple requests."
   ]
  },
  {
   "cell_type": "markdown",
   "id": "3e28d70f-c7a9-4d6f-b897-5b277a5cbf95",
   "metadata": {},
   "source": [
    "Q5. Differentiate between REST and SOAP."
   ]
  },
  {
   "cell_type": "markdown",
   "id": "04f7ff82-75a8-43a6-ab53-673e090e2a17",
   "metadata": {},
   "source": [
    "1. REST is a architectural style and not a protocol, It provides a set of guidelines for designing applications based on existing protocols such as HTTP. Whereas, SOAP is a protocol with strict set of rules for structuring messages and how they should be exchanged between applications.\n",
    "2. REST typically uses light weight data formats such as JSON for message payloads, These formats are easy to read uderstand nd parse. Whereas, SOAP messages are typically encoded in XML which can be more wordy and complex making them difficult to read and are larger in size.\n",
    "3. REST follows a stateless communication model. Each request from client to server must contain all information needed, and server donot store client state between requests. Whereas, SOAP architecture does not enforces statelessness, but it often require additional efforts to maintain the states across multiple requests.\n",
    "4. SOAP is often more efficient in terms of performance because of its lightweight message formats and use of exixting web protocols. Whereas, SOAP messages tend to be larger and more complex, which can introduce performance overhead, especially in low band-width and high-latency environments."
   ]
  }
 ],
 "metadata": {
  "kernelspec": {
   "display_name": "Python 3 (ipykernel)",
   "language": "python",
   "name": "python3"
  },
  "language_info": {
   "codemirror_mode": {
    "name": "ipython",
    "version": 3
   },
   "file_extension": ".py",
   "mimetype": "text/x-python",
   "name": "python",
   "nbconvert_exporter": "python",
   "pygments_lexer": "ipython3",
   "version": "3.10.8"
  }
 },
 "nbformat": 4,
 "nbformat_minor": 5
}
